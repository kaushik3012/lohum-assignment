{
  "cells": [
    {
      "cell_type": "markdown",
      "metadata": {
        "id": "view-in-github",
        "colab_type": "text"
      },
      "source": [
        "<a href=\"https://colab.research.google.com/github/kaushik3012/lohum-assignment/blob/main/Copy_of_Lohum_assignment.ipynb\" target=\"_parent\"><img src=\"https://colab.research.google.com/assets/colab-badge.svg\" alt=\"Open In Colab\"/></a>"
      ]
    },
    {
      "cell_type": "markdown",
      "source": [
        "#Part 1 - Feature Extraction"
      ],
      "metadata": {
        "id": "kiGH8lc-uc1R"
      }
    },
    {
      "cell_type": "markdown",
      "source": [
        "###Setup"
      ],
      "metadata": {
        "id": "EtNyAmI_ummC"
      }
    },
    {
      "cell_type": "markdown",
      "source": [
        "Downloading the dataset"
      ],
      "metadata": {
        "id": "Gz5uNWzSwjRu"
      }
    },
    {
      "cell_type": "code",
      "execution_count": 17,
      "metadata": {
        "colab": {
          "base_uri": "https://localhost:8080/"
        },
        "id": "i2O8xT84SAXX",
        "outputId": "86b071e2-d357-4d92-c040-371596c14e27"
      },
      "outputs": [
        {
          "output_type": "stream",
          "name": "stdout",
          "text": [
            "--2022-11-08 10:28:48--  https://raw.githubusercontent.com/kaushik3012/lohum-assignment/main/data/Part1.csv\n",
            "Resolving raw.githubusercontent.com (raw.githubusercontent.com)... 185.199.110.133, 185.199.108.133, 185.199.111.133, ...\n",
            "Connecting to raw.githubusercontent.com (raw.githubusercontent.com)|185.199.110.133|:443... connected.\n",
            "HTTP request sent, awaiting response... 200 OK\n",
            "Length: 2924254 (2.8M) [text/plain]\n",
            "Saving to: ‘Part1.csv’\n",
            "\n",
            "\rPart1.csv             0%[                    ]       0  --.-KB/s               \rPart1.csv           100%[===================>]   2.79M  --.-KB/s    in 0.01s   \n",
            "\n",
            "2022-11-08 10:28:48 (242 MB/s) - ‘Part1.csv’ saved [2924254/2924254]\n",
            "\n"
          ]
        }
      ],
      "source": [
        "!wget -O Part1.csv https://raw.githubusercontent.com/kaushik3012/lohum-assignment/main/data/Part1.csv"
      ]
    },
    {
      "cell_type": "markdown",
      "source": [
        "Importing the important libraries and the dataset"
      ],
      "metadata": {
        "id": "RsFS6FBXwmaV"
      }
    },
    {
      "cell_type": "code",
      "execution_count": 18,
      "metadata": {
        "id": "l6PlKX3hT94C"
      },
      "outputs": [],
      "source": [
        "import pandas as pd\n",
        "\n",
        "df = pd.read_csv(\"/content/Part1.csv\")"
      ]
    },
    {
      "cell_type": "code",
      "execution_count": 19,
      "metadata": {
        "colab": {
          "base_uri": "https://localhost:8080/",
          "height": 206
        },
        "id": "-e7iejmDS7EL",
        "outputId": "7156cb6b-b014-44c7-d62d-463cd3487258"
      },
      "outputs": [
        {
          "output_type": "execute_result",
          "data": {
            "text/plain": [
              "   Unnamed: 0            timestamp  soc  voltage  current\n",
              "0           0  2021-12-12 04:41:20   87     56.3      0.0\n",
              "1           1  2021-12-12 04:41:20   87     56.3      0.0\n",
              "2           2  2021-12-12 04:41:20   87     56.3      0.0\n",
              "3           3  2021-12-12 04:43:31   87     56.3      0.0\n",
              "4           4  2021-12-12 04:43:31   87     56.3      0.0"
            ],
            "text/html": [
              "\n",
              "  <div id=\"df-98247e76-3614-4be1-b1c3-22edc32dce8c\">\n",
              "    <div class=\"colab-df-container\">\n",
              "      <div>\n",
              "<style scoped>\n",
              "    .dataframe tbody tr th:only-of-type {\n",
              "        vertical-align: middle;\n",
              "    }\n",
              "\n",
              "    .dataframe tbody tr th {\n",
              "        vertical-align: top;\n",
              "    }\n",
              "\n",
              "    .dataframe thead th {\n",
              "        text-align: right;\n",
              "    }\n",
              "</style>\n",
              "<table border=\"1\" class=\"dataframe\">\n",
              "  <thead>\n",
              "    <tr style=\"text-align: right;\">\n",
              "      <th></th>\n",
              "      <th>Unnamed: 0</th>\n",
              "      <th>timestamp</th>\n",
              "      <th>soc</th>\n",
              "      <th>voltage</th>\n",
              "      <th>current</th>\n",
              "    </tr>\n",
              "  </thead>\n",
              "  <tbody>\n",
              "    <tr>\n",
              "      <th>0</th>\n",
              "      <td>0</td>\n",
              "      <td>2021-12-12 04:41:20</td>\n",
              "      <td>87</td>\n",
              "      <td>56.3</td>\n",
              "      <td>0.0</td>\n",
              "    </tr>\n",
              "    <tr>\n",
              "      <th>1</th>\n",
              "      <td>1</td>\n",
              "      <td>2021-12-12 04:41:20</td>\n",
              "      <td>87</td>\n",
              "      <td>56.3</td>\n",
              "      <td>0.0</td>\n",
              "    </tr>\n",
              "    <tr>\n",
              "      <th>2</th>\n",
              "      <td>2</td>\n",
              "      <td>2021-12-12 04:41:20</td>\n",
              "      <td>87</td>\n",
              "      <td>56.3</td>\n",
              "      <td>0.0</td>\n",
              "    </tr>\n",
              "    <tr>\n",
              "      <th>3</th>\n",
              "      <td>3</td>\n",
              "      <td>2021-12-12 04:43:31</td>\n",
              "      <td>87</td>\n",
              "      <td>56.3</td>\n",
              "      <td>0.0</td>\n",
              "    </tr>\n",
              "    <tr>\n",
              "      <th>4</th>\n",
              "      <td>4</td>\n",
              "      <td>2021-12-12 04:43:31</td>\n",
              "      <td>87</td>\n",
              "      <td>56.3</td>\n",
              "      <td>0.0</td>\n",
              "    </tr>\n",
              "  </tbody>\n",
              "</table>\n",
              "</div>\n",
              "      <button class=\"colab-df-convert\" onclick=\"convertToInteractive('df-98247e76-3614-4be1-b1c3-22edc32dce8c')\"\n",
              "              title=\"Convert this dataframe to an interactive table.\"\n",
              "              style=\"display:none;\">\n",
              "        \n",
              "  <svg xmlns=\"http://www.w3.org/2000/svg\" height=\"24px\"viewBox=\"0 0 24 24\"\n",
              "       width=\"24px\">\n",
              "    <path d=\"M0 0h24v24H0V0z\" fill=\"none\"/>\n",
              "    <path d=\"M18.56 5.44l.94 2.06.94-2.06 2.06-.94-2.06-.94-.94-2.06-.94 2.06-2.06.94zm-11 1L8.5 8.5l.94-2.06 2.06-.94-2.06-.94L8.5 2.5l-.94 2.06-2.06.94zm10 10l.94 2.06.94-2.06 2.06-.94-2.06-.94-.94-2.06-.94 2.06-2.06.94z\"/><path d=\"M17.41 7.96l-1.37-1.37c-.4-.4-.92-.59-1.43-.59-.52 0-1.04.2-1.43.59L10.3 9.45l-7.72 7.72c-.78.78-.78 2.05 0 2.83L4 21.41c.39.39.9.59 1.41.59.51 0 1.02-.2 1.41-.59l7.78-7.78 2.81-2.81c.8-.78.8-2.07 0-2.86zM5.41 20L4 18.59l7.72-7.72 1.47 1.35L5.41 20z\"/>\n",
              "  </svg>\n",
              "      </button>\n",
              "      \n",
              "  <style>\n",
              "    .colab-df-container {\n",
              "      display:flex;\n",
              "      flex-wrap:wrap;\n",
              "      gap: 12px;\n",
              "    }\n",
              "\n",
              "    .colab-df-convert {\n",
              "      background-color: #E8F0FE;\n",
              "      border: none;\n",
              "      border-radius: 50%;\n",
              "      cursor: pointer;\n",
              "      display: none;\n",
              "      fill: #1967D2;\n",
              "      height: 32px;\n",
              "      padding: 0 0 0 0;\n",
              "      width: 32px;\n",
              "    }\n",
              "\n",
              "    .colab-df-convert:hover {\n",
              "      background-color: #E2EBFA;\n",
              "      box-shadow: 0px 1px 2px rgba(60, 64, 67, 0.3), 0px 1px 3px 1px rgba(60, 64, 67, 0.15);\n",
              "      fill: #174EA6;\n",
              "    }\n",
              "\n",
              "    [theme=dark] .colab-df-convert {\n",
              "      background-color: #3B4455;\n",
              "      fill: #D2E3FC;\n",
              "    }\n",
              "\n",
              "    [theme=dark] .colab-df-convert:hover {\n",
              "      background-color: #434B5C;\n",
              "      box-shadow: 0px 1px 3px 1px rgba(0, 0, 0, 0.15);\n",
              "      filter: drop-shadow(0px 1px 2px rgba(0, 0, 0, 0.3));\n",
              "      fill: #FFFFFF;\n",
              "    }\n",
              "  </style>\n",
              "\n",
              "      <script>\n",
              "        const buttonEl =\n",
              "          document.querySelector('#df-98247e76-3614-4be1-b1c3-22edc32dce8c button.colab-df-convert');\n",
              "        buttonEl.style.display =\n",
              "          google.colab.kernel.accessAllowed ? 'block' : 'none';\n",
              "\n",
              "        async function convertToInteractive(key) {\n",
              "          const element = document.querySelector('#df-98247e76-3614-4be1-b1c3-22edc32dce8c');\n",
              "          const dataTable =\n",
              "            await google.colab.kernel.invokeFunction('convertToInteractive',\n",
              "                                                     [key], {});\n",
              "          if (!dataTable) return;\n",
              "\n",
              "          const docLinkHtml = 'Like what you see? Visit the ' +\n",
              "            '<a target=\"_blank\" href=https://colab.research.google.com/notebooks/data_table.ipynb>data table notebook</a>'\n",
              "            + ' to learn more about interactive tables.';\n",
              "          element.innerHTML = '';\n",
              "          dataTable['output_type'] = 'display_data';\n",
              "          await google.colab.output.renderOutput(dataTable, element);\n",
              "          const docLink = document.createElement('div');\n",
              "          docLink.innerHTML = docLinkHtml;\n",
              "          element.appendChild(docLink);\n",
              "        }\n",
              "      </script>\n",
              "    </div>\n",
              "  </div>\n",
              "  "
            ]
          },
          "metadata": {},
          "execution_count": 19
        }
      ],
      "source": [
        "df.head()"
      ]
    },
    {
      "cell_type": "markdown",
      "source": [
        "###1) Cleaning the Data"
      ],
      "metadata": {
        "id": "3GftOfcPvIix"
      }
    },
    {
      "cell_type": "markdown",
      "source": [
        "Remove missing values"
      ],
      "metadata": {
        "id": "Aj3AugK9uyYZ"
      }
    },
    {
      "cell_type": "code",
      "execution_count": 20,
      "metadata": {
        "id": "kPCfhiF7TBpc"
      },
      "outputs": [],
      "source": [
        "df = df.dropna()"
      ]
    },
    {
      "cell_type": "code",
      "execution_count": 21,
      "metadata": {
        "colab": {
          "base_uri": "https://localhost:8080/"
        },
        "id": "nlQE5ii0THWs",
        "outputId": "14c36413-e96b-48a5-da59-40fcaacb5fad"
      },
      "outputs": [
        {
          "output_type": "execute_result",
          "data": {
            "text/plain": [
              "(81140, 5)"
            ]
          },
          "metadata": {},
          "execution_count": 21
        }
      ],
      "source": [
        "df.shape"
      ]
    },
    {
      "cell_type": "markdown",
      "source": [
        "Removing the Outliers"
      ],
      "metadata": {
        "id": "psJAVZKEvFw8"
      }
    },
    {
      "cell_type": "code",
      "execution_count": 22,
      "metadata": {
        "id": "d_iUSDRGc8pl"
      },
      "outputs": [],
      "source": [
        "#This function removes the value which lie outside the 25th and 75th percentile of the dataset\n",
        "def remove_outlier(df_in, col_name):\n",
        "    q1 = df_in[col_name].quantile(0.25)\n",
        "    q3 = df_in[col_name].quantile(0.75)\n",
        "    iqr = q3-q1 #Interquartile range\n",
        "    fence_low  = q1-1.5*iqr\n",
        "    fence_high = q3+1.5*iqr\n",
        "    df_out = df_in.loc[(df_in[col_name] > fence_low) & (df_in[col_name] < fence_high)]\n",
        "    return df_out\n",
        "\n",
        "df = remove_outlier(df, 'soc')\n",
        "df = remove_outlier(df, 'voltage')"
      ]
    },
    {
      "cell_type": "markdown",
      "source": [
        "Parse the time stamps column"
      ],
      "metadata": {
        "id": "zYtzSxZ9vNw0"
      }
    },
    {
      "cell_type": "code",
      "execution_count": 23,
      "metadata": {
        "id": "DxNSdu_Ub-i1"
      },
      "outputs": [],
      "source": [
        "df['time_parsed'] = pd.to_datetime(df['timestamp'], format='%Y-%m-%d %H:%M:%S')\n",
        "df = df.sort_values(by=['time_parsed'])   #Sorting the DataFrame according to the timestamp"
      ]
    },
    {
      "cell_type": "markdown",
      "source": [
        "###2) Algorithm to obtain the FECs that the given battery has undergone"
      ],
      "metadata": {
        "id": "Xaoc4pRmvwyA"
      }
    },
    {
      "cell_type": "markdown",
      "source": [
        "Creating a charge status column which finds the change in charge\n",
        "The charge status is negative if the battery is discharging and positive if it is charging."
      ],
      "metadata": {
        "id": "cKIKxeh9v-Vf"
      }
    },
    {
      "cell_type": "code",
      "source": [
        "df['charge_status'] = df['soc'] - df['soc'].shift(1)"
      ],
      "metadata": {
        "id": "DmUAPSOlQEfc"
      },
      "execution_count": 24,
      "outputs": []
    },
    {
      "cell_type": "markdown",
      "source": [
        "Creating a charge_current column which gives the current difference while charging. The charge_current value is 0 if the battery is discharging."
      ],
      "metadata": {
        "id": "05u5V50vwQ5r"
      }
    },
    {
      "cell_type": "code",
      "source": [
        "df['charge_current']=0\n",
        "\n",
        "charge_status = -1\n",
        "for i in range(df.shape[0]):\n",
        "  if(df['charge_status'].iloc[i]!=0):\n",
        "    charge_status = df['charge_status'].iloc[i]\n",
        "\n",
        "  if(charge_status>0):\n",
        "    df['charge_current'].iloc[i] = df['current'].iloc[i]\n",
        "  else:\n",
        "    df['charge_current'].iloc[i] = 0\n"
      ],
      "metadata": {
        "colab": {
          "base_uri": "https://localhost:8080/"
        },
        "id": "JJ9XMOo-UDbs",
        "outputId": "cea2ec48-b236-4009-c1f1-1b0ed44c530b"
      },
      "execution_count": 25,
      "outputs": [
        {
          "output_type": "stream",
          "name": "stderr",
          "text": [
            "/usr/local/lib/python3.7/dist-packages/pandas/core/indexing.py:1732: SettingWithCopyWarning: \n",
            "A value is trying to be set on a copy of a slice from a DataFrame\n",
            "\n",
            "See the caveats in the documentation: https://pandas.pydata.org/pandas-docs/stable/user_guide/indexing.html#returning-a-view-versus-a-copy\n",
            "  self._setitem_single_block(indexer, value, name)\n"
          ]
        }
      ]
    },
    {
      "cell_type": "code",
      "source": [
        "df.head(1000)"
      ],
      "metadata": {
        "colab": {
          "base_uri": "https://localhost:8080/",
          "height": 424
        },
        "id": "bguyVDYqV626",
        "outputId": "4f84bbce-3c01-4060-87aa-d1ee9420ff11"
      },
      "execution_count": 26,
      "outputs": [
        {
          "output_type": "execute_result",
          "data": {
            "text/plain": [
              "       Unnamed: 0            timestamp  soc  voltage  current  \\\n",
              "71954       71954  2021-11-09 07:05:22   59     52.3      0.0   \n",
              "71955       71955  2021-11-09 07:05:22   93     57.3      0.0   \n",
              "71956       71956  2021-11-09 07:07:33   93     56.7     12.8   \n",
              "71957       71957  2021-11-09 07:07:33   93     57.1      2.9   \n",
              "71958       71958  2021-11-09 07:07:33   93     57.1      0.0   \n",
              "...           ...                  ...  ...      ...      ...   \n",
              "20715       20715  2021-11-11 04:57:52   39     50.5      3.5   \n",
              "20716       20716  2021-11-11 05:00:03   39     50.4      4.4   \n",
              "20717       20717  2021-11-11 05:00:03   38     50.5      2.1   \n",
              "20718       20718  2021-11-11 05:00:03   38     50.4      3.1   \n",
              "20719       20719  2021-11-11 05:02:15   38     50.4      2.9   \n",
              "\n",
              "              time_parsed  charge_status  charge_current  \n",
              "71954 2021-11-09 07:05:22            NaN             0.0  \n",
              "71955 2021-11-09 07:05:22           34.0             0.0  \n",
              "71956 2021-11-09 07:07:33            0.0            12.8  \n",
              "71957 2021-11-09 07:07:33            0.0             2.9  \n",
              "71958 2021-11-09 07:07:33            0.0             0.0  \n",
              "...                   ...            ...             ...  \n",
              "20715 2021-11-11 04:57:52            0.0             0.0  \n",
              "20716 2021-11-11 05:00:03            0.0             0.0  \n",
              "20717 2021-11-11 05:00:03           -1.0             0.0  \n",
              "20718 2021-11-11 05:00:03            0.0             0.0  \n",
              "20719 2021-11-11 05:02:15            0.0             0.0  \n",
              "\n",
              "[1000 rows x 8 columns]"
            ],
            "text/html": [
              "\n",
              "  <div id=\"df-395b5d0e-bf1e-4658-bf58-f8ca6c985310\">\n",
              "    <div class=\"colab-df-container\">\n",
              "      <div>\n",
              "<style scoped>\n",
              "    .dataframe tbody tr th:only-of-type {\n",
              "        vertical-align: middle;\n",
              "    }\n",
              "\n",
              "    .dataframe tbody tr th {\n",
              "        vertical-align: top;\n",
              "    }\n",
              "\n",
              "    .dataframe thead th {\n",
              "        text-align: right;\n",
              "    }\n",
              "</style>\n",
              "<table border=\"1\" class=\"dataframe\">\n",
              "  <thead>\n",
              "    <tr style=\"text-align: right;\">\n",
              "      <th></th>\n",
              "      <th>Unnamed: 0</th>\n",
              "      <th>timestamp</th>\n",
              "      <th>soc</th>\n",
              "      <th>voltage</th>\n",
              "      <th>current</th>\n",
              "      <th>time_parsed</th>\n",
              "      <th>charge_status</th>\n",
              "      <th>charge_current</th>\n",
              "    </tr>\n",
              "  </thead>\n",
              "  <tbody>\n",
              "    <tr>\n",
              "      <th>71954</th>\n",
              "      <td>71954</td>\n",
              "      <td>2021-11-09 07:05:22</td>\n",
              "      <td>59</td>\n",
              "      <td>52.3</td>\n",
              "      <td>0.0</td>\n",
              "      <td>2021-11-09 07:05:22</td>\n",
              "      <td>NaN</td>\n",
              "      <td>0.0</td>\n",
              "    </tr>\n",
              "    <tr>\n",
              "      <th>71955</th>\n",
              "      <td>71955</td>\n",
              "      <td>2021-11-09 07:05:22</td>\n",
              "      <td>93</td>\n",
              "      <td>57.3</td>\n",
              "      <td>0.0</td>\n",
              "      <td>2021-11-09 07:05:22</td>\n",
              "      <td>34.0</td>\n",
              "      <td>0.0</td>\n",
              "    </tr>\n",
              "    <tr>\n",
              "      <th>71956</th>\n",
              "      <td>71956</td>\n",
              "      <td>2021-11-09 07:07:33</td>\n",
              "      <td>93</td>\n",
              "      <td>56.7</td>\n",
              "      <td>12.8</td>\n",
              "      <td>2021-11-09 07:07:33</td>\n",
              "      <td>0.0</td>\n",
              "      <td>12.8</td>\n",
              "    </tr>\n",
              "    <tr>\n",
              "      <th>71957</th>\n",
              "      <td>71957</td>\n",
              "      <td>2021-11-09 07:07:33</td>\n",
              "      <td>93</td>\n",
              "      <td>57.1</td>\n",
              "      <td>2.9</td>\n",
              "      <td>2021-11-09 07:07:33</td>\n",
              "      <td>0.0</td>\n",
              "      <td>2.9</td>\n",
              "    </tr>\n",
              "    <tr>\n",
              "      <th>71958</th>\n",
              "      <td>71958</td>\n",
              "      <td>2021-11-09 07:07:33</td>\n",
              "      <td>93</td>\n",
              "      <td>57.1</td>\n",
              "      <td>0.0</td>\n",
              "      <td>2021-11-09 07:07:33</td>\n",
              "      <td>0.0</td>\n",
              "      <td>0.0</td>\n",
              "    </tr>\n",
              "    <tr>\n",
              "      <th>...</th>\n",
              "      <td>...</td>\n",
              "      <td>...</td>\n",
              "      <td>...</td>\n",
              "      <td>...</td>\n",
              "      <td>...</td>\n",
              "      <td>...</td>\n",
              "      <td>...</td>\n",
              "      <td>...</td>\n",
              "    </tr>\n",
              "    <tr>\n",
              "      <th>20715</th>\n",
              "      <td>20715</td>\n",
              "      <td>2021-11-11 04:57:52</td>\n",
              "      <td>39</td>\n",
              "      <td>50.5</td>\n",
              "      <td>3.5</td>\n",
              "      <td>2021-11-11 04:57:52</td>\n",
              "      <td>0.0</td>\n",
              "      <td>0.0</td>\n",
              "    </tr>\n",
              "    <tr>\n",
              "      <th>20716</th>\n",
              "      <td>20716</td>\n",
              "      <td>2021-11-11 05:00:03</td>\n",
              "      <td>39</td>\n",
              "      <td>50.4</td>\n",
              "      <td>4.4</td>\n",
              "      <td>2021-11-11 05:00:03</td>\n",
              "      <td>0.0</td>\n",
              "      <td>0.0</td>\n",
              "    </tr>\n",
              "    <tr>\n",
              "      <th>20717</th>\n",
              "      <td>20717</td>\n",
              "      <td>2021-11-11 05:00:03</td>\n",
              "      <td>38</td>\n",
              "      <td>50.5</td>\n",
              "      <td>2.1</td>\n",
              "      <td>2021-11-11 05:00:03</td>\n",
              "      <td>-1.0</td>\n",
              "      <td>0.0</td>\n",
              "    </tr>\n",
              "    <tr>\n",
              "      <th>20718</th>\n",
              "      <td>20718</td>\n",
              "      <td>2021-11-11 05:00:03</td>\n",
              "      <td>38</td>\n",
              "      <td>50.4</td>\n",
              "      <td>3.1</td>\n",
              "      <td>2021-11-11 05:00:03</td>\n",
              "      <td>0.0</td>\n",
              "      <td>0.0</td>\n",
              "    </tr>\n",
              "    <tr>\n",
              "      <th>20719</th>\n",
              "      <td>20719</td>\n",
              "      <td>2021-11-11 05:02:15</td>\n",
              "      <td>38</td>\n",
              "      <td>50.4</td>\n",
              "      <td>2.9</td>\n",
              "      <td>2021-11-11 05:02:15</td>\n",
              "      <td>0.0</td>\n",
              "      <td>0.0</td>\n",
              "    </tr>\n",
              "  </tbody>\n",
              "</table>\n",
              "<p>1000 rows × 8 columns</p>\n",
              "</div>\n",
              "      <button class=\"colab-df-convert\" onclick=\"convertToInteractive('df-395b5d0e-bf1e-4658-bf58-f8ca6c985310')\"\n",
              "              title=\"Convert this dataframe to an interactive table.\"\n",
              "              style=\"display:none;\">\n",
              "        \n",
              "  <svg xmlns=\"http://www.w3.org/2000/svg\" height=\"24px\"viewBox=\"0 0 24 24\"\n",
              "       width=\"24px\">\n",
              "    <path d=\"M0 0h24v24H0V0z\" fill=\"none\"/>\n",
              "    <path d=\"M18.56 5.44l.94 2.06.94-2.06 2.06-.94-2.06-.94-.94-2.06-.94 2.06-2.06.94zm-11 1L8.5 8.5l.94-2.06 2.06-.94-2.06-.94L8.5 2.5l-.94 2.06-2.06.94zm10 10l.94 2.06.94-2.06 2.06-.94-2.06-.94-.94-2.06-.94 2.06-2.06.94z\"/><path d=\"M17.41 7.96l-1.37-1.37c-.4-.4-.92-.59-1.43-.59-.52 0-1.04.2-1.43.59L10.3 9.45l-7.72 7.72c-.78.78-.78 2.05 0 2.83L4 21.41c.39.39.9.59 1.41.59.51 0 1.02-.2 1.41-.59l7.78-7.78 2.81-2.81c.8-.78.8-2.07 0-2.86zM5.41 20L4 18.59l7.72-7.72 1.47 1.35L5.41 20z\"/>\n",
              "  </svg>\n",
              "      </button>\n",
              "      \n",
              "  <style>\n",
              "    .colab-df-container {\n",
              "      display:flex;\n",
              "      flex-wrap:wrap;\n",
              "      gap: 12px;\n",
              "    }\n",
              "\n",
              "    .colab-df-convert {\n",
              "      background-color: #E8F0FE;\n",
              "      border: none;\n",
              "      border-radius: 50%;\n",
              "      cursor: pointer;\n",
              "      display: none;\n",
              "      fill: #1967D2;\n",
              "      height: 32px;\n",
              "      padding: 0 0 0 0;\n",
              "      width: 32px;\n",
              "    }\n",
              "\n",
              "    .colab-df-convert:hover {\n",
              "      background-color: #E2EBFA;\n",
              "      box-shadow: 0px 1px 2px rgba(60, 64, 67, 0.3), 0px 1px 3px 1px rgba(60, 64, 67, 0.15);\n",
              "      fill: #174EA6;\n",
              "    }\n",
              "\n",
              "    [theme=dark] .colab-df-convert {\n",
              "      background-color: #3B4455;\n",
              "      fill: #D2E3FC;\n",
              "    }\n",
              "\n",
              "    [theme=dark] .colab-df-convert:hover {\n",
              "      background-color: #434B5C;\n",
              "      box-shadow: 0px 1px 3px 1px rgba(0, 0, 0, 0.15);\n",
              "      filter: drop-shadow(0px 1px 2px rgba(0, 0, 0, 0.3));\n",
              "      fill: #FFFFFF;\n",
              "    }\n",
              "  </style>\n",
              "\n",
              "      <script>\n",
              "        const buttonEl =\n",
              "          document.querySelector('#df-395b5d0e-bf1e-4658-bf58-f8ca6c985310 button.colab-df-convert');\n",
              "        buttonEl.style.display =\n",
              "          google.colab.kernel.accessAllowed ? 'block' : 'none';\n",
              "\n",
              "        async function convertToInteractive(key) {\n",
              "          const element = document.querySelector('#df-395b5d0e-bf1e-4658-bf58-f8ca6c985310');\n",
              "          const dataTable =\n",
              "            await google.colab.kernel.invokeFunction('convertToInteractive',\n",
              "                                                     [key], {});\n",
              "          if (!dataTable) return;\n",
              "\n",
              "          const docLinkHtml = 'Like what you see? Visit the ' +\n",
              "            '<a target=\"_blank\" href=https://colab.research.google.com/notebooks/data_table.ipynb>data table notebook</a>'\n",
              "            + ' to learn more about interactive tables.';\n",
              "          element.innerHTML = '';\n",
              "          dataTable['output_type'] = 'display_data';\n",
              "          await google.colab.output.renderOutput(dataTable, element);\n",
              "          const docLink = document.createElement('div');\n",
              "          docLink.innerHTML = docLinkHtml;\n",
              "          element.appendChild(docLink);\n",
              "        }\n",
              "      </script>\n",
              "    </div>\n",
              "  </div>\n",
              "  "
            ]
          },
          "metadata": {},
          "execution_count": 26
        }
      ]
    },
    {
      "cell_type": "markdown",
      "source": [
        "The following expression finds the fraction of cycle completed at each timestep by adding only the positive values of charge_status and then dividing them by 100"
      ],
      "metadata": {
        "id": "nwyUebsTwzRp"
      }
    },
    {
      "cell_type": "code",
      "source": [
        "df['cycles'] = df['charge_status'].map(lambda x : x if x>0 else 0).cumsum()/100"
      ],
      "metadata": {
        "id": "XHN--RdzWeqK"
      },
      "execution_count": 27,
      "outputs": []
    },
    {
      "cell_type": "code",
      "source": [
        "df.head(1000)"
      ],
      "metadata": {
        "colab": {
          "base_uri": "https://localhost:8080/",
          "height": 424
        },
        "id": "6tsuNm5N8Zq8",
        "outputId": "00a09ad5-815c-4f40-b01b-0845e53dd5bf"
      },
      "execution_count": 28,
      "outputs": [
        {
          "output_type": "execute_result",
          "data": {
            "text/plain": [
              "       Unnamed: 0            timestamp  soc  voltage  current  \\\n",
              "71954       71954  2021-11-09 07:05:22   59     52.3      0.0   \n",
              "71955       71955  2021-11-09 07:05:22   93     57.3      0.0   \n",
              "71956       71956  2021-11-09 07:07:33   93     56.7     12.8   \n",
              "71957       71957  2021-11-09 07:07:33   93     57.1      2.9   \n",
              "71958       71958  2021-11-09 07:07:33   93     57.1      0.0   \n",
              "...           ...                  ...  ...      ...      ...   \n",
              "20715       20715  2021-11-11 04:57:52   39     50.5      3.5   \n",
              "20716       20716  2021-11-11 05:00:03   39     50.4      4.4   \n",
              "20717       20717  2021-11-11 05:00:03   38     50.5      2.1   \n",
              "20718       20718  2021-11-11 05:00:03   38     50.4      3.1   \n",
              "20719       20719  2021-11-11 05:02:15   38     50.4      2.9   \n",
              "\n",
              "              time_parsed  charge_status  charge_current  cycles  \n",
              "71954 2021-11-09 07:05:22            NaN             0.0    0.00  \n",
              "71955 2021-11-09 07:05:22           34.0             0.0    0.34  \n",
              "71956 2021-11-09 07:07:33            0.0            12.8    0.34  \n",
              "71957 2021-11-09 07:07:33            0.0             2.9    0.34  \n",
              "71958 2021-11-09 07:07:33            0.0             0.0    0.34  \n",
              "...                   ...            ...             ...     ...  \n",
              "20715 2021-11-11 04:57:52            0.0             0.0    2.22  \n",
              "20716 2021-11-11 05:00:03            0.0             0.0    2.22  \n",
              "20717 2021-11-11 05:00:03           -1.0             0.0    2.22  \n",
              "20718 2021-11-11 05:00:03            0.0             0.0    2.22  \n",
              "20719 2021-11-11 05:02:15            0.0             0.0    2.22  \n",
              "\n",
              "[1000 rows x 9 columns]"
            ],
            "text/html": [
              "\n",
              "  <div id=\"df-540aa84c-2d78-4989-88ce-79d2b50b9379\">\n",
              "    <div class=\"colab-df-container\">\n",
              "      <div>\n",
              "<style scoped>\n",
              "    .dataframe tbody tr th:only-of-type {\n",
              "        vertical-align: middle;\n",
              "    }\n",
              "\n",
              "    .dataframe tbody tr th {\n",
              "        vertical-align: top;\n",
              "    }\n",
              "\n",
              "    .dataframe thead th {\n",
              "        text-align: right;\n",
              "    }\n",
              "</style>\n",
              "<table border=\"1\" class=\"dataframe\">\n",
              "  <thead>\n",
              "    <tr style=\"text-align: right;\">\n",
              "      <th></th>\n",
              "      <th>Unnamed: 0</th>\n",
              "      <th>timestamp</th>\n",
              "      <th>soc</th>\n",
              "      <th>voltage</th>\n",
              "      <th>current</th>\n",
              "      <th>time_parsed</th>\n",
              "      <th>charge_status</th>\n",
              "      <th>charge_current</th>\n",
              "      <th>cycles</th>\n",
              "    </tr>\n",
              "  </thead>\n",
              "  <tbody>\n",
              "    <tr>\n",
              "      <th>71954</th>\n",
              "      <td>71954</td>\n",
              "      <td>2021-11-09 07:05:22</td>\n",
              "      <td>59</td>\n",
              "      <td>52.3</td>\n",
              "      <td>0.0</td>\n",
              "      <td>2021-11-09 07:05:22</td>\n",
              "      <td>NaN</td>\n",
              "      <td>0.0</td>\n",
              "      <td>0.00</td>\n",
              "    </tr>\n",
              "    <tr>\n",
              "      <th>71955</th>\n",
              "      <td>71955</td>\n",
              "      <td>2021-11-09 07:05:22</td>\n",
              "      <td>93</td>\n",
              "      <td>57.3</td>\n",
              "      <td>0.0</td>\n",
              "      <td>2021-11-09 07:05:22</td>\n",
              "      <td>34.0</td>\n",
              "      <td>0.0</td>\n",
              "      <td>0.34</td>\n",
              "    </tr>\n",
              "    <tr>\n",
              "      <th>71956</th>\n",
              "      <td>71956</td>\n",
              "      <td>2021-11-09 07:07:33</td>\n",
              "      <td>93</td>\n",
              "      <td>56.7</td>\n",
              "      <td>12.8</td>\n",
              "      <td>2021-11-09 07:07:33</td>\n",
              "      <td>0.0</td>\n",
              "      <td>12.8</td>\n",
              "      <td>0.34</td>\n",
              "    </tr>\n",
              "    <tr>\n",
              "      <th>71957</th>\n",
              "      <td>71957</td>\n",
              "      <td>2021-11-09 07:07:33</td>\n",
              "      <td>93</td>\n",
              "      <td>57.1</td>\n",
              "      <td>2.9</td>\n",
              "      <td>2021-11-09 07:07:33</td>\n",
              "      <td>0.0</td>\n",
              "      <td>2.9</td>\n",
              "      <td>0.34</td>\n",
              "    </tr>\n",
              "    <tr>\n",
              "      <th>71958</th>\n",
              "      <td>71958</td>\n",
              "      <td>2021-11-09 07:07:33</td>\n",
              "      <td>93</td>\n",
              "      <td>57.1</td>\n",
              "      <td>0.0</td>\n",
              "      <td>2021-11-09 07:07:33</td>\n",
              "      <td>0.0</td>\n",
              "      <td>0.0</td>\n",
              "      <td>0.34</td>\n",
              "    </tr>\n",
              "    <tr>\n",
              "      <th>...</th>\n",
              "      <td>...</td>\n",
              "      <td>...</td>\n",
              "      <td>...</td>\n",
              "      <td>...</td>\n",
              "      <td>...</td>\n",
              "      <td>...</td>\n",
              "      <td>...</td>\n",
              "      <td>...</td>\n",
              "      <td>...</td>\n",
              "    </tr>\n",
              "    <tr>\n",
              "      <th>20715</th>\n",
              "      <td>20715</td>\n",
              "      <td>2021-11-11 04:57:52</td>\n",
              "      <td>39</td>\n",
              "      <td>50.5</td>\n",
              "      <td>3.5</td>\n",
              "      <td>2021-11-11 04:57:52</td>\n",
              "      <td>0.0</td>\n",
              "      <td>0.0</td>\n",
              "      <td>2.22</td>\n",
              "    </tr>\n",
              "    <tr>\n",
              "      <th>20716</th>\n",
              "      <td>20716</td>\n",
              "      <td>2021-11-11 05:00:03</td>\n",
              "      <td>39</td>\n",
              "      <td>50.4</td>\n",
              "      <td>4.4</td>\n",
              "      <td>2021-11-11 05:00:03</td>\n",
              "      <td>0.0</td>\n",
              "      <td>0.0</td>\n",
              "      <td>2.22</td>\n",
              "    </tr>\n",
              "    <tr>\n",
              "      <th>20717</th>\n",
              "      <td>20717</td>\n",
              "      <td>2021-11-11 05:00:03</td>\n",
              "      <td>38</td>\n",
              "      <td>50.5</td>\n",
              "      <td>2.1</td>\n",
              "      <td>2021-11-11 05:00:03</td>\n",
              "      <td>-1.0</td>\n",
              "      <td>0.0</td>\n",
              "      <td>2.22</td>\n",
              "    </tr>\n",
              "    <tr>\n",
              "      <th>20718</th>\n",
              "      <td>20718</td>\n",
              "      <td>2021-11-11 05:00:03</td>\n",
              "      <td>38</td>\n",
              "      <td>50.4</td>\n",
              "      <td>3.1</td>\n",
              "      <td>2021-11-11 05:00:03</td>\n",
              "      <td>0.0</td>\n",
              "      <td>0.0</td>\n",
              "      <td>2.22</td>\n",
              "    </tr>\n",
              "    <tr>\n",
              "      <th>20719</th>\n",
              "      <td>20719</td>\n",
              "      <td>2021-11-11 05:02:15</td>\n",
              "      <td>38</td>\n",
              "      <td>50.4</td>\n",
              "      <td>2.9</td>\n",
              "      <td>2021-11-11 05:02:15</td>\n",
              "      <td>0.0</td>\n",
              "      <td>0.0</td>\n",
              "      <td>2.22</td>\n",
              "    </tr>\n",
              "  </tbody>\n",
              "</table>\n",
              "<p>1000 rows × 9 columns</p>\n",
              "</div>\n",
              "      <button class=\"colab-df-convert\" onclick=\"convertToInteractive('df-540aa84c-2d78-4989-88ce-79d2b50b9379')\"\n",
              "              title=\"Convert this dataframe to an interactive table.\"\n",
              "              style=\"display:none;\">\n",
              "        \n",
              "  <svg xmlns=\"http://www.w3.org/2000/svg\" height=\"24px\"viewBox=\"0 0 24 24\"\n",
              "       width=\"24px\">\n",
              "    <path d=\"M0 0h24v24H0V0z\" fill=\"none\"/>\n",
              "    <path d=\"M18.56 5.44l.94 2.06.94-2.06 2.06-.94-2.06-.94-.94-2.06-.94 2.06-2.06.94zm-11 1L8.5 8.5l.94-2.06 2.06-.94-2.06-.94L8.5 2.5l-.94 2.06-2.06.94zm10 10l.94 2.06.94-2.06 2.06-.94-2.06-.94-.94-2.06-.94 2.06-2.06.94z\"/><path d=\"M17.41 7.96l-1.37-1.37c-.4-.4-.92-.59-1.43-.59-.52 0-1.04.2-1.43.59L10.3 9.45l-7.72 7.72c-.78.78-.78 2.05 0 2.83L4 21.41c.39.39.9.59 1.41.59.51 0 1.02-.2 1.41-.59l7.78-7.78 2.81-2.81c.8-.78.8-2.07 0-2.86zM5.41 20L4 18.59l7.72-7.72 1.47 1.35L5.41 20z\"/>\n",
              "  </svg>\n",
              "      </button>\n",
              "      \n",
              "  <style>\n",
              "    .colab-df-container {\n",
              "      display:flex;\n",
              "      flex-wrap:wrap;\n",
              "      gap: 12px;\n",
              "    }\n",
              "\n",
              "    .colab-df-convert {\n",
              "      background-color: #E8F0FE;\n",
              "      border: none;\n",
              "      border-radius: 50%;\n",
              "      cursor: pointer;\n",
              "      display: none;\n",
              "      fill: #1967D2;\n",
              "      height: 32px;\n",
              "      padding: 0 0 0 0;\n",
              "      width: 32px;\n",
              "    }\n",
              "\n",
              "    .colab-df-convert:hover {\n",
              "      background-color: #E2EBFA;\n",
              "      box-shadow: 0px 1px 2px rgba(60, 64, 67, 0.3), 0px 1px 3px 1px rgba(60, 64, 67, 0.15);\n",
              "      fill: #174EA6;\n",
              "    }\n",
              "\n",
              "    [theme=dark] .colab-df-convert {\n",
              "      background-color: #3B4455;\n",
              "      fill: #D2E3FC;\n",
              "    }\n",
              "\n",
              "    [theme=dark] .colab-df-convert:hover {\n",
              "      background-color: #434B5C;\n",
              "      box-shadow: 0px 1px 3px 1px rgba(0, 0, 0, 0.15);\n",
              "      filter: drop-shadow(0px 1px 2px rgba(0, 0, 0, 0.3));\n",
              "      fill: #FFFFFF;\n",
              "    }\n",
              "  </style>\n",
              "\n",
              "      <script>\n",
              "        const buttonEl =\n",
              "          document.querySelector('#df-540aa84c-2d78-4989-88ce-79d2b50b9379 button.colab-df-convert');\n",
              "        buttonEl.style.display =\n",
              "          google.colab.kernel.accessAllowed ? 'block' : 'none';\n",
              "\n",
              "        async function convertToInteractive(key) {\n",
              "          const element = document.querySelector('#df-540aa84c-2d78-4989-88ce-79d2b50b9379');\n",
              "          const dataTable =\n",
              "            await google.colab.kernel.invokeFunction('convertToInteractive',\n",
              "                                                     [key], {});\n",
              "          if (!dataTable) return;\n",
              "\n",
              "          const docLinkHtml = 'Like what you see? Visit the ' +\n",
              "            '<a target=\"_blank\" href=https://colab.research.google.com/notebooks/data_table.ipynb>data table notebook</a>'\n",
              "            + ' to learn more about interactive tables.';\n",
              "          element.innerHTML = '';\n",
              "          dataTable['output_type'] = 'display_data';\n",
              "          await google.colab.output.renderOutput(dataTable, element);\n",
              "          const docLink = document.createElement('div');\n",
              "          docLink.innerHTML = docLinkHtml;\n",
              "          element.appendChild(docLink);\n",
              "        }\n",
              "      </script>\n",
              "    </div>\n",
              "  </div>\n",
              "  "
            ]
          },
          "metadata": {},
          "execution_count": 28
        }
      ]
    },
    {
      "cell_type": "markdown",
      "source": [
        "The Total FECs is given by the following code"
      ],
      "metadata": {
        "id": "73I3ZRhX34hk"
      }
    },
    {
      "cell_type": "code",
      "source": [
        "int(df['cycles'].iloc[-1])"
      ],
      "metadata": {
        "colab": {
          "base_uri": "https://localhost:8080/"
        },
        "id": "1GajGSnq34An",
        "outputId": "c5404eee-a665-4568-8194-4fd456185c64"
      },
      "execution_count": 29,
      "outputs": [
        {
          "output_type": "execute_result",
          "data": {
            "text/plain": [
              "52"
            ]
          },
          "metadata": {},
          "execution_count": 29
        }
      ]
    },
    {
      "cell_type": "markdown",
      "source": [
        "###3) Capacity of Battery"
      ],
      "metadata": {
        "id": "raLG6HTh4I2G"
      }
    },
    {
      "cell_type": "markdown",
      "source": [
        "Calculating the time difference"
      ],
      "metadata": {
        "id": "bcsn2SVk6Yio"
      }
    },
    {
      "cell_type": "code",
      "source": [
        "df['time_secs'] = df['time_parsed'] - df['time_parsed'].shift(1)\n",
        "df['time_secs'] = df['time_secs'].map(lambda x : (pd.Timedelta(x, unit='h').total_seconds())).fillna(0)"
      ],
      "metadata": {
        "id": "8AqeQcnHkIcT"
      },
      "execution_count": 30,
      "outputs": []
    },
    {
      "cell_type": "code",
      "source": [
        "df.head(1000)"
      ],
      "metadata": {
        "colab": {
          "base_uri": "https://localhost:8080/",
          "height": 424
        },
        "id": "jT5EsOinjd0o",
        "outputId": "1ea5f0e4-b45c-4f1d-a315-df55d801c8be"
      },
      "execution_count": 31,
      "outputs": [
        {
          "output_type": "execute_result",
          "data": {
            "text/plain": [
              "       Unnamed: 0            timestamp  soc  voltage  current  \\\n",
              "71954       71954  2021-11-09 07:05:22   59     52.3      0.0   \n",
              "71955       71955  2021-11-09 07:05:22   93     57.3      0.0   \n",
              "71956       71956  2021-11-09 07:07:33   93     56.7     12.8   \n",
              "71957       71957  2021-11-09 07:07:33   93     57.1      2.9   \n",
              "71958       71958  2021-11-09 07:07:33   93     57.1      0.0   \n",
              "...           ...                  ...  ...      ...      ...   \n",
              "20715       20715  2021-11-11 04:57:52   39     50.5      3.5   \n",
              "20716       20716  2021-11-11 05:00:03   39     50.4      4.4   \n",
              "20717       20717  2021-11-11 05:00:03   38     50.5      2.1   \n",
              "20718       20718  2021-11-11 05:00:03   38     50.4      3.1   \n",
              "20719       20719  2021-11-11 05:02:15   38     50.4      2.9   \n",
              "\n",
              "              time_parsed  charge_status  charge_current  cycles  time_secs  \n",
              "71954 2021-11-09 07:05:22            NaN             0.0    0.00        0.0  \n",
              "71955 2021-11-09 07:05:22           34.0             0.0    0.34        0.0  \n",
              "71956 2021-11-09 07:07:33            0.0            12.8    0.34      131.0  \n",
              "71957 2021-11-09 07:07:33            0.0             2.9    0.34        0.0  \n",
              "71958 2021-11-09 07:07:33            0.0             0.0    0.34        0.0  \n",
              "...                   ...            ...             ...     ...        ...  \n",
              "20715 2021-11-11 04:57:52            0.0             0.0    2.22        0.0  \n",
              "20716 2021-11-11 05:00:03            0.0             0.0    2.22      131.0  \n",
              "20717 2021-11-11 05:00:03           -1.0             0.0    2.22        0.0  \n",
              "20718 2021-11-11 05:00:03            0.0             0.0    2.22        0.0  \n",
              "20719 2021-11-11 05:02:15            0.0             0.0    2.22      132.0  \n",
              "\n",
              "[1000 rows x 10 columns]"
            ],
            "text/html": [
              "\n",
              "  <div id=\"df-192d0c96-c074-489e-b467-cd76d47e7765\">\n",
              "    <div class=\"colab-df-container\">\n",
              "      <div>\n",
              "<style scoped>\n",
              "    .dataframe tbody tr th:only-of-type {\n",
              "        vertical-align: middle;\n",
              "    }\n",
              "\n",
              "    .dataframe tbody tr th {\n",
              "        vertical-align: top;\n",
              "    }\n",
              "\n",
              "    .dataframe thead th {\n",
              "        text-align: right;\n",
              "    }\n",
              "</style>\n",
              "<table border=\"1\" class=\"dataframe\">\n",
              "  <thead>\n",
              "    <tr style=\"text-align: right;\">\n",
              "      <th></th>\n",
              "      <th>Unnamed: 0</th>\n",
              "      <th>timestamp</th>\n",
              "      <th>soc</th>\n",
              "      <th>voltage</th>\n",
              "      <th>current</th>\n",
              "      <th>time_parsed</th>\n",
              "      <th>charge_status</th>\n",
              "      <th>charge_current</th>\n",
              "      <th>cycles</th>\n",
              "      <th>time_secs</th>\n",
              "    </tr>\n",
              "  </thead>\n",
              "  <tbody>\n",
              "    <tr>\n",
              "      <th>71954</th>\n",
              "      <td>71954</td>\n",
              "      <td>2021-11-09 07:05:22</td>\n",
              "      <td>59</td>\n",
              "      <td>52.3</td>\n",
              "      <td>0.0</td>\n",
              "      <td>2021-11-09 07:05:22</td>\n",
              "      <td>NaN</td>\n",
              "      <td>0.0</td>\n",
              "      <td>0.00</td>\n",
              "      <td>0.0</td>\n",
              "    </tr>\n",
              "    <tr>\n",
              "      <th>71955</th>\n",
              "      <td>71955</td>\n",
              "      <td>2021-11-09 07:05:22</td>\n",
              "      <td>93</td>\n",
              "      <td>57.3</td>\n",
              "      <td>0.0</td>\n",
              "      <td>2021-11-09 07:05:22</td>\n",
              "      <td>34.0</td>\n",
              "      <td>0.0</td>\n",
              "      <td>0.34</td>\n",
              "      <td>0.0</td>\n",
              "    </tr>\n",
              "    <tr>\n",
              "      <th>71956</th>\n",
              "      <td>71956</td>\n",
              "      <td>2021-11-09 07:07:33</td>\n",
              "      <td>93</td>\n",
              "      <td>56.7</td>\n",
              "      <td>12.8</td>\n",
              "      <td>2021-11-09 07:07:33</td>\n",
              "      <td>0.0</td>\n",
              "      <td>12.8</td>\n",
              "      <td>0.34</td>\n",
              "      <td>131.0</td>\n",
              "    </tr>\n",
              "    <tr>\n",
              "      <th>71957</th>\n",
              "      <td>71957</td>\n",
              "      <td>2021-11-09 07:07:33</td>\n",
              "      <td>93</td>\n",
              "      <td>57.1</td>\n",
              "      <td>2.9</td>\n",
              "      <td>2021-11-09 07:07:33</td>\n",
              "      <td>0.0</td>\n",
              "      <td>2.9</td>\n",
              "      <td>0.34</td>\n",
              "      <td>0.0</td>\n",
              "    </tr>\n",
              "    <tr>\n",
              "      <th>71958</th>\n",
              "      <td>71958</td>\n",
              "      <td>2021-11-09 07:07:33</td>\n",
              "      <td>93</td>\n",
              "      <td>57.1</td>\n",
              "      <td>0.0</td>\n",
              "      <td>2021-11-09 07:07:33</td>\n",
              "      <td>0.0</td>\n",
              "      <td>0.0</td>\n",
              "      <td>0.34</td>\n",
              "      <td>0.0</td>\n",
              "    </tr>\n",
              "    <tr>\n",
              "      <th>...</th>\n",
              "      <td>...</td>\n",
              "      <td>...</td>\n",
              "      <td>...</td>\n",
              "      <td>...</td>\n",
              "      <td>...</td>\n",
              "      <td>...</td>\n",
              "      <td>...</td>\n",
              "      <td>...</td>\n",
              "      <td>...</td>\n",
              "      <td>...</td>\n",
              "    </tr>\n",
              "    <tr>\n",
              "      <th>20715</th>\n",
              "      <td>20715</td>\n",
              "      <td>2021-11-11 04:57:52</td>\n",
              "      <td>39</td>\n",
              "      <td>50.5</td>\n",
              "      <td>3.5</td>\n",
              "      <td>2021-11-11 04:57:52</td>\n",
              "      <td>0.0</td>\n",
              "      <td>0.0</td>\n",
              "      <td>2.22</td>\n",
              "      <td>0.0</td>\n",
              "    </tr>\n",
              "    <tr>\n",
              "      <th>20716</th>\n",
              "      <td>20716</td>\n",
              "      <td>2021-11-11 05:00:03</td>\n",
              "      <td>39</td>\n",
              "      <td>50.4</td>\n",
              "      <td>4.4</td>\n",
              "      <td>2021-11-11 05:00:03</td>\n",
              "      <td>0.0</td>\n",
              "      <td>0.0</td>\n",
              "      <td>2.22</td>\n",
              "      <td>131.0</td>\n",
              "    </tr>\n",
              "    <tr>\n",
              "      <th>20717</th>\n",
              "      <td>20717</td>\n",
              "      <td>2021-11-11 05:00:03</td>\n",
              "      <td>38</td>\n",
              "      <td>50.5</td>\n",
              "      <td>2.1</td>\n",
              "      <td>2021-11-11 05:00:03</td>\n",
              "      <td>-1.0</td>\n",
              "      <td>0.0</td>\n",
              "      <td>2.22</td>\n",
              "      <td>0.0</td>\n",
              "    </tr>\n",
              "    <tr>\n",
              "      <th>20718</th>\n",
              "      <td>20718</td>\n",
              "      <td>2021-11-11 05:00:03</td>\n",
              "      <td>38</td>\n",
              "      <td>50.4</td>\n",
              "      <td>3.1</td>\n",
              "      <td>2021-11-11 05:00:03</td>\n",
              "      <td>0.0</td>\n",
              "      <td>0.0</td>\n",
              "      <td>2.22</td>\n",
              "      <td>0.0</td>\n",
              "    </tr>\n",
              "    <tr>\n",
              "      <th>20719</th>\n",
              "      <td>20719</td>\n",
              "      <td>2021-11-11 05:02:15</td>\n",
              "      <td>38</td>\n",
              "      <td>50.4</td>\n",
              "      <td>2.9</td>\n",
              "      <td>2021-11-11 05:02:15</td>\n",
              "      <td>0.0</td>\n",
              "      <td>0.0</td>\n",
              "      <td>2.22</td>\n",
              "      <td>132.0</td>\n",
              "    </tr>\n",
              "  </tbody>\n",
              "</table>\n",
              "<p>1000 rows × 10 columns</p>\n",
              "</div>\n",
              "      <button class=\"colab-df-convert\" onclick=\"convertToInteractive('df-192d0c96-c074-489e-b467-cd76d47e7765')\"\n",
              "              title=\"Convert this dataframe to an interactive table.\"\n",
              "              style=\"display:none;\">\n",
              "        \n",
              "  <svg xmlns=\"http://www.w3.org/2000/svg\" height=\"24px\"viewBox=\"0 0 24 24\"\n",
              "       width=\"24px\">\n",
              "    <path d=\"M0 0h24v24H0V0z\" fill=\"none\"/>\n",
              "    <path d=\"M18.56 5.44l.94 2.06.94-2.06 2.06-.94-2.06-.94-.94-2.06-.94 2.06-2.06.94zm-11 1L8.5 8.5l.94-2.06 2.06-.94-2.06-.94L8.5 2.5l-.94 2.06-2.06.94zm10 10l.94 2.06.94-2.06 2.06-.94-2.06-.94-.94-2.06-.94 2.06-2.06.94z\"/><path d=\"M17.41 7.96l-1.37-1.37c-.4-.4-.92-.59-1.43-.59-.52 0-1.04.2-1.43.59L10.3 9.45l-7.72 7.72c-.78.78-.78 2.05 0 2.83L4 21.41c.39.39.9.59 1.41.59.51 0 1.02-.2 1.41-.59l7.78-7.78 2.81-2.81c.8-.78.8-2.07 0-2.86zM5.41 20L4 18.59l7.72-7.72 1.47 1.35L5.41 20z\"/>\n",
              "  </svg>\n",
              "      </button>\n",
              "      \n",
              "  <style>\n",
              "    .colab-df-container {\n",
              "      display:flex;\n",
              "      flex-wrap:wrap;\n",
              "      gap: 12px;\n",
              "    }\n",
              "\n",
              "    .colab-df-convert {\n",
              "      background-color: #E8F0FE;\n",
              "      border: none;\n",
              "      border-radius: 50%;\n",
              "      cursor: pointer;\n",
              "      display: none;\n",
              "      fill: #1967D2;\n",
              "      height: 32px;\n",
              "      padding: 0 0 0 0;\n",
              "      width: 32px;\n",
              "    }\n",
              "\n",
              "    .colab-df-convert:hover {\n",
              "      background-color: #E2EBFA;\n",
              "      box-shadow: 0px 1px 2px rgba(60, 64, 67, 0.3), 0px 1px 3px 1px rgba(60, 64, 67, 0.15);\n",
              "      fill: #174EA6;\n",
              "    }\n",
              "\n",
              "    [theme=dark] .colab-df-convert {\n",
              "      background-color: #3B4455;\n",
              "      fill: #D2E3FC;\n",
              "    }\n",
              "\n",
              "    [theme=dark] .colab-df-convert:hover {\n",
              "      background-color: #434B5C;\n",
              "      box-shadow: 0px 1px 3px 1px rgba(0, 0, 0, 0.15);\n",
              "      filter: drop-shadow(0px 1px 2px rgba(0, 0, 0, 0.3));\n",
              "      fill: #FFFFFF;\n",
              "    }\n",
              "  </style>\n",
              "\n",
              "      <script>\n",
              "        const buttonEl =\n",
              "          document.querySelector('#df-192d0c96-c074-489e-b467-cd76d47e7765 button.colab-df-convert');\n",
              "        buttonEl.style.display =\n",
              "          google.colab.kernel.accessAllowed ? 'block' : 'none';\n",
              "\n",
              "        async function convertToInteractive(key) {\n",
              "          const element = document.querySelector('#df-192d0c96-c074-489e-b467-cd76d47e7765');\n",
              "          const dataTable =\n",
              "            await google.colab.kernel.invokeFunction('convertToInteractive',\n",
              "                                                     [key], {});\n",
              "          if (!dataTable) return;\n",
              "\n",
              "          const docLinkHtml = 'Like what you see? Visit the ' +\n",
              "            '<a target=\"_blank\" href=https://colab.research.google.com/notebooks/data_table.ipynb>data table notebook</a>'\n",
              "            + ' to learn more about interactive tables.';\n",
              "          element.innerHTML = '';\n",
              "          dataTable['output_type'] = 'display_data';\n",
              "          await google.colab.output.renderOutput(dataTable, element);\n",
              "          const docLink = document.createElement('div');\n",
              "          docLink.innerHTML = docLinkHtml;\n",
              "          element.appendChild(docLink);\n",
              "        }\n",
              "      </script>\n",
              "    </div>\n",
              "  </div>\n",
              "  "
            ]
          },
          "metadata": {},
          "execution_count": 31
        }
      ]
    },
    {
      "cell_type": "markdown",
      "source": [
        "Finding the Change of Charge at each timestamp (Q = I*t)"
      ],
      "metadata": {
        "id": "uS7J-w1J6cC2"
      }
    },
    {
      "cell_type": "code",
      "source": [
        "df['charge_change'] = df['charge_current']*(df['time_secs']/3600)\n",
        "df.head(1000)"
      ],
      "metadata": {
        "id": "YFiIFgSxrM90",
        "colab": {
          "base_uri": "https://localhost:8080/",
          "height": 658
        },
        "outputId": "7e49c7ee-5fc4-4802-d947-6259278dc562"
      },
      "execution_count": 32,
      "outputs": [
        {
          "output_type": "execute_result",
          "data": {
            "text/plain": [
              "       Unnamed: 0            timestamp  soc  voltage  current  \\\n",
              "71954       71954  2021-11-09 07:05:22   59     52.3      0.0   \n",
              "71955       71955  2021-11-09 07:05:22   93     57.3      0.0   \n",
              "71956       71956  2021-11-09 07:07:33   93     56.7     12.8   \n",
              "71957       71957  2021-11-09 07:07:33   93     57.1      2.9   \n",
              "71958       71958  2021-11-09 07:07:33   93     57.1      0.0   \n",
              "...           ...                  ...  ...      ...      ...   \n",
              "20715       20715  2021-11-11 04:57:52   39     50.5      3.5   \n",
              "20716       20716  2021-11-11 05:00:03   39     50.4      4.4   \n",
              "20717       20717  2021-11-11 05:00:03   38     50.5      2.1   \n",
              "20718       20718  2021-11-11 05:00:03   38     50.4      3.1   \n",
              "20719       20719  2021-11-11 05:02:15   38     50.4      2.9   \n",
              "\n",
              "              time_parsed  charge_status  charge_current  cycles  time_secs  \\\n",
              "71954 2021-11-09 07:05:22            NaN             0.0    0.00        0.0   \n",
              "71955 2021-11-09 07:05:22           34.0             0.0    0.34        0.0   \n",
              "71956 2021-11-09 07:07:33            0.0            12.8    0.34      131.0   \n",
              "71957 2021-11-09 07:07:33            0.0             2.9    0.34        0.0   \n",
              "71958 2021-11-09 07:07:33            0.0             0.0    0.34        0.0   \n",
              "...                   ...            ...             ...     ...        ...   \n",
              "20715 2021-11-11 04:57:52            0.0             0.0    2.22        0.0   \n",
              "20716 2021-11-11 05:00:03            0.0             0.0    2.22      131.0   \n",
              "20717 2021-11-11 05:00:03           -1.0             0.0    2.22        0.0   \n",
              "20718 2021-11-11 05:00:03            0.0             0.0    2.22        0.0   \n",
              "20719 2021-11-11 05:02:15            0.0             0.0    2.22      132.0   \n",
              "\n",
              "       charge_change  \n",
              "71954       0.000000  \n",
              "71955       0.000000  \n",
              "71956       0.465778  \n",
              "71957       0.000000  \n",
              "71958       0.000000  \n",
              "...              ...  \n",
              "20715       0.000000  \n",
              "20716       0.000000  \n",
              "20717       0.000000  \n",
              "20718       0.000000  \n",
              "20719       0.000000  \n",
              "\n",
              "[1000 rows x 11 columns]"
            ],
            "text/html": [
              "\n",
              "  <div id=\"df-90ea0541-01a8-4315-8c38-e58dfdd0aaef\">\n",
              "    <div class=\"colab-df-container\">\n",
              "      <div>\n",
              "<style scoped>\n",
              "    .dataframe tbody tr th:only-of-type {\n",
              "        vertical-align: middle;\n",
              "    }\n",
              "\n",
              "    .dataframe tbody tr th {\n",
              "        vertical-align: top;\n",
              "    }\n",
              "\n",
              "    .dataframe thead th {\n",
              "        text-align: right;\n",
              "    }\n",
              "</style>\n",
              "<table border=\"1\" class=\"dataframe\">\n",
              "  <thead>\n",
              "    <tr style=\"text-align: right;\">\n",
              "      <th></th>\n",
              "      <th>Unnamed: 0</th>\n",
              "      <th>timestamp</th>\n",
              "      <th>soc</th>\n",
              "      <th>voltage</th>\n",
              "      <th>current</th>\n",
              "      <th>time_parsed</th>\n",
              "      <th>charge_status</th>\n",
              "      <th>charge_current</th>\n",
              "      <th>cycles</th>\n",
              "      <th>time_secs</th>\n",
              "      <th>charge_change</th>\n",
              "    </tr>\n",
              "  </thead>\n",
              "  <tbody>\n",
              "    <tr>\n",
              "      <th>71954</th>\n",
              "      <td>71954</td>\n",
              "      <td>2021-11-09 07:05:22</td>\n",
              "      <td>59</td>\n",
              "      <td>52.3</td>\n",
              "      <td>0.0</td>\n",
              "      <td>2021-11-09 07:05:22</td>\n",
              "      <td>NaN</td>\n",
              "      <td>0.0</td>\n",
              "      <td>0.00</td>\n",
              "      <td>0.0</td>\n",
              "      <td>0.000000</td>\n",
              "    </tr>\n",
              "    <tr>\n",
              "      <th>71955</th>\n",
              "      <td>71955</td>\n",
              "      <td>2021-11-09 07:05:22</td>\n",
              "      <td>93</td>\n",
              "      <td>57.3</td>\n",
              "      <td>0.0</td>\n",
              "      <td>2021-11-09 07:05:22</td>\n",
              "      <td>34.0</td>\n",
              "      <td>0.0</td>\n",
              "      <td>0.34</td>\n",
              "      <td>0.0</td>\n",
              "      <td>0.000000</td>\n",
              "    </tr>\n",
              "    <tr>\n",
              "      <th>71956</th>\n",
              "      <td>71956</td>\n",
              "      <td>2021-11-09 07:07:33</td>\n",
              "      <td>93</td>\n",
              "      <td>56.7</td>\n",
              "      <td>12.8</td>\n",
              "      <td>2021-11-09 07:07:33</td>\n",
              "      <td>0.0</td>\n",
              "      <td>12.8</td>\n",
              "      <td>0.34</td>\n",
              "      <td>131.0</td>\n",
              "      <td>0.465778</td>\n",
              "    </tr>\n",
              "    <tr>\n",
              "      <th>71957</th>\n",
              "      <td>71957</td>\n",
              "      <td>2021-11-09 07:07:33</td>\n",
              "      <td>93</td>\n",
              "      <td>57.1</td>\n",
              "      <td>2.9</td>\n",
              "      <td>2021-11-09 07:07:33</td>\n",
              "      <td>0.0</td>\n",
              "      <td>2.9</td>\n",
              "      <td>0.34</td>\n",
              "      <td>0.0</td>\n",
              "      <td>0.000000</td>\n",
              "    </tr>\n",
              "    <tr>\n",
              "      <th>71958</th>\n",
              "      <td>71958</td>\n",
              "      <td>2021-11-09 07:07:33</td>\n",
              "      <td>93</td>\n",
              "      <td>57.1</td>\n",
              "      <td>0.0</td>\n",
              "      <td>2021-11-09 07:07:33</td>\n",
              "      <td>0.0</td>\n",
              "      <td>0.0</td>\n",
              "      <td>0.34</td>\n",
              "      <td>0.0</td>\n",
              "      <td>0.000000</td>\n",
              "    </tr>\n",
              "    <tr>\n",
              "      <th>...</th>\n",
              "      <td>...</td>\n",
              "      <td>...</td>\n",
              "      <td>...</td>\n",
              "      <td>...</td>\n",
              "      <td>...</td>\n",
              "      <td>...</td>\n",
              "      <td>...</td>\n",
              "      <td>...</td>\n",
              "      <td>...</td>\n",
              "      <td>...</td>\n",
              "      <td>...</td>\n",
              "    </tr>\n",
              "    <tr>\n",
              "      <th>20715</th>\n",
              "      <td>20715</td>\n",
              "      <td>2021-11-11 04:57:52</td>\n",
              "      <td>39</td>\n",
              "      <td>50.5</td>\n",
              "      <td>3.5</td>\n",
              "      <td>2021-11-11 04:57:52</td>\n",
              "      <td>0.0</td>\n",
              "      <td>0.0</td>\n",
              "      <td>2.22</td>\n",
              "      <td>0.0</td>\n",
              "      <td>0.000000</td>\n",
              "    </tr>\n",
              "    <tr>\n",
              "      <th>20716</th>\n",
              "      <td>20716</td>\n",
              "      <td>2021-11-11 05:00:03</td>\n",
              "      <td>39</td>\n",
              "      <td>50.4</td>\n",
              "      <td>4.4</td>\n",
              "      <td>2021-11-11 05:00:03</td>\n",
              "      <td>0.0</td>\n",
              "      <td>0.0</td>\n",
              "      <td>2.22</td>\n",
              "      <td>131.0</td>\n",
              "      <td>0.000000</td>\n",
              "    </tr>\n",
              "    <tr>\n",
              "      <th>20717</th>\n",
              "      <td>20717</td>\n",
              "      <td>2021-11-11 05:00:03</td>\n",
              "      <td>38</td>\n",
              "      <td>50.5</td>\n",
              "      <td>2.1</td>\n",
              "      <td>2021-11-11 05:00:03</td>\n",
              "      <td>-1.0</td>\n",
              "      <td>0.0</td>\n",
              "      <td>2.22</td>\n",
              "      <td>0.0</td>\n",
              "      <td>0.000000</td>\n",
              "    </tr>\n",
              "    <tr>\n",
              "      <th>20718</th>\n",
              "      <td>20718</td>\n",
              "      <td>2021-11-11 05:00:03</td>\n",
              "      <td>38</td>\n",
              "      <td>50.4</td>\n",
              "      <td>3.1</td>\n",
              "      <td>2021-11-11 05:00:03</td>\n",
              "      <td>0.0</td>\n",
              "      <td>0.0</td>\n",
              "      <td>2.22</td>\n",
              "      <td>0.0</td>\n",
              "      <td>0.000000</td>\n",
              "    </tr>\n",
              "    <tr>\n",
              "      <th>20719</th>\n",
              "      <td>20719</td>\n",
              "      <td>2021-11-11 05:02:15</td>\n",
              "      <td>38</td>\n",
              "      <td>50.4</td>\n",
              "      <td>2.9</td>\n",
              "      <td>2021-11-11 05:02:15</td>\n",
              "      <td>0.0</td>\n",
              "      <td>0.0</td>\n",
              "      <td>2.22</td>\n",
              "      <td>132.0</td>\n",
              "      <td>0.000000</td>\n",
              "    </tr>\n",
              "  </tbody>\n",
              "</table>\n",
              "<p>1000 rows × 11 columns</p>\n",
              "</div>\n",
              "      <button class=\"colab-df-convert\" onclick=\"convertToInteractive('df-90ea0541-01a8-4315-8c38-e58dfdd0aaef')\"\n",
              "              title=\"Convert this dataframe to an interactive table.\"\n",
              "              style=\"display:none;\">\n",
              "        \n",
              "  <svg xmlns=\"http://www.w3.org/2000/svg\" height=\"24px\"viewBox=\"0 0 24 24\"\n",
              "       width=\"24px\">\n",
              "    <path d=\"M0 0h24v24H0V0z\" fill=\"none\"/>\n",
              "    <path d=\"M18.56 5.44l.94 2.06.94-2.06 2.06-.94-2.06-.94-.94-2.06-.94 2.06-2.06.94zm-11 1L8.5 8.5l.94-2.06 2.06-.94-2.06-.94L8.5 2.5l-.94 2.06-2.06.94zm10 10l.94 2.06.94-2.06 2.06-.94-2.06-.94-.94-2.06-.94 2.06-2.06.94z\"/><path d=\"M17.41 7.96l-1.37-1.37c-.4-.4-.92-.59-1.43-.59-.52 0-1.04.2-1.43.59L10.3 9.45l-7.72 7.72c-.78.78-.78 2.05 0 2.83L4 21.41c.39.39.9.59 1.41.59.51 0 1.02-.2 1.41-.59l7.78-7.78 2.81-2.81c.8-.78.8-2.07 0-2.86zM5.41 20L4 18.59l7.72-7.72 1.47 1.35L5.41 20z\"/>\n",
              "  </svg>\n",
              "      </button>\n",
              "      \n",
              "  <style>\n",
              "    .colab-df-container {\n",
              "      display:flex;\n",
              "      flex-wrap:wrap;\n",
              "      gap: 12px;\n",
              "    }\n",
              "\n",
              "    .colab-df-convert {\n",
              "      background-color: #E8F0FE;\n",
              "      border: none;\n",
              "      border-radius: 50%;\n",
              "      cursor: pointer;\n",
              "      display: none;\n",
              "      fill: #1967D2;\n",
              "      height: 32px;\n",
              "      padding: 0 0 0 0;\n",
              "      width: 32px;\n",
              "    }\n",
              "\n",
              "    .colab-df-convert:hover {\n",
              "      background-color: #E2EBFA;\n",
              "      box-shadow: 0px 1px 2px rgba(60, 64, 67, 0.3), 0px 1px 3px 1px rgba(60, 64, 67, 0.15);\n",
              "      fill: #174EA6;\n",
              "    }\n",
              "\n",
              "    [theme=dark] .colab-df-convert {\n",
              "      background-color: #3B4455;\n",
              "      fill: #D2E3FC;\n",
              "    }\n",
              "\n",
              "    [theme=dark] .colab-df-convert:hover {\n",
              "      background-color: #434B5C;\n",
              "      box-shadow: 0px 1px 3px 1px rgba(0, 0, 0, 0.15);\n",
              "      filter: drop-shadow(0px 1px 2px rgba(0, 0, 0, 0.3));\n",
              "      fill: #FFFFFF;\n",
              "    }\n",
              "  </style>\n",
              "\n",
              "      <script>\n",
              "        const buttonEl =\n",
              "          document.querySelector('#df-90ea0541-01a8-4315-8c38-e58dfdd0aaef button.colab-df-convert');\n",
              "        buttonEl.style.display =\n",
              "          google.colab.kernel.accessAllowed ? 'block' : 'none';\n",
              "\n",
              "        async function convertToInteractive(key) {\n",
              "          const element = document.querySelector('#df-90ea0541-01a8-4315-8c38-e58dfdd0aaef');\n",
              "          const dataTable =\n",
              "            await google.colab.kernel.invokeFunction('convertToInteractive',\n",
              "                                                     [key], {});\n",
              "          if (!dataTable) return;\n",
              "\n",
              "          const docLinkHtml = 'Like what you see? Visit the ' +\n",
              "            '<a target=\"_blank\" href=https://colab.research.google.com/notebooks/data_table.ipynb>data table notebook</a>'\n",
              "            + ' to learn more about interactive tables.';\n",
              "          element.innerHTML = '';\n",
              "          dataTable['output_type'] = 'display_data';\n",
              "          await google.colab.output.renderOutput(dataTable, element);\n",
              "          const docLink = document.createElement('div');\n",
              "          docLink.innerHTML = docLinkHtml;\n",
              "          element.appendChild(docLink);\n",
              "        }\n",
              "      </script>\n",
              "    </div>\n",
              "  </div>\n",
              "  "
            ]
          },
          "metadata": {},
          "execution_count": 32
        }
      ]
    },
    {
      "cell_type": "markdown",
      "source": [
        "Finding the index where 10th cycle ends"
      ],
      "metadata": {
        "id": "6XrSyB836NAF"
      }
    },
    {
      "cell_type": "code",
      "source": [
        "cycle_10th=0\n",
        "for i in range(df.shape[0]):\n",
        "  if(df['cycles'].iloc[i]>=10):\n",
        "    cycle_10th = i\n",
        "    break"
      ],
      "metadata": {
        "id": "Tgxr1TyI6lOb"
      },
      "execution_count": 33,
      "outputs": []
    },
    {
      "cell_type": "markdown",
      "source": [
        "Following expression gives the Capacity of the battery (in Ah)"
      ],
      "metadata": {
        "id": "5cRm3f4D7QTb"
      }
    },
    {
      "cell_type": "code",
      "source": [
        "# Summing all the Positive change of charges at all timestamps till the 10th cycle \n",
        "# and then divide by 10 to obtain the average over 10 cycles\n",
        "\n",
        "df.head(cycle_10th)['charge_change'].sum()/10     "
      ],
      "metadata": {
        "colab": {
          "base_uri": "https://localhost:8080/"
        },
        "id": "xwsErwjX7Rfc",
        "outputId": "b5d980af-d673-453c-9b46-156a831eaf81"
      },
      "execution_count": 34,
      "outputs": [
        {
          "output_type": "execute_result",
          "data": {
            "text/plain": [
              "44.42704722222222"
            ]
          },
          "metadata": {},
          "execution_count": 34
        }
      ]
    },
    {
      "cell_type": "markdown",
      "source": [
        "#Part 2 - Regression"
      ],
      "metadata": {
        "id": "M2io67IQ-V-Z"
      }
    },
    {
      "cell_type": "markdown",
      "source": [
        "###Setup"
      ],
      "metadata": {
        "id": "ub3q2JMcN2K6"
      }
    },
    {
      "cell_type": "markdown",
      "source": [
        "Loading the Dataset"
      ],
      "metadata": {
        "id": "SRwTeBK6N8Zp"
      }
    },
    {
      "cell_type": "code",
      "execution_count": 35,
      "metadata": {
        "colab": {
          "base_uri": "https://localhost:8080/"
        },
        "id": "gZXDSQXp9RDZ",
        "outputId": "5763db8a-5da5-4fc5-a0d4-b63215637a33"
      },
      "outputs": [
        {
          "output_type": "stream",
          "name": "stdout",
          "text": [
            "--2022-11-08 10:28:57--  https://raw.githubusercontent.com/kaushik3012/lohum-assignment/main/data/Part2.csv.xlsx\n",
            "Resolving raw.githubusercontent.com (raw.githubusercontent.com)... 185.199.108.133, 185.199.109.133, 185.199.110.133, ...\n",
            "Connecting to raw.githubusercontent.com (raw.githubusercontent.com)|185.199.108.133|:443... connected.\n",
            "HTTP request sent, awaiting response... 200 OK\n",
            "Length: 44623 (44K) [application/octet-stream]\n",
            "Saving to: ‘Part2.csv.xlsx’\n",
            "\n",
            "\rPart2.csv.xlsx        0%[                    ]       0  --.-KB/s               \rPart2.csv.xlsx      100%[===================>]  43.58K  --.-KB/s    in 0.001s  \n",
            "\n",
            "2022-11-08 10:28:57 (32.5 MB/s) - ‘Part2.csv.xlsx’ saved [44623/44623]\n",
            "\n"
          ]
        }
      ],
      "source": [
        "!wget -O Part2.csv.xlsx https://raw.githubusercontent.com/kaushik3012/lohum-assignment/main/data/Part2.csv.xlsx\n"
      ]
    },
    {
      "cell_type": "markdown",
      "source": [
        "Importing the data and library"
      ],
      "metadata": {
        "id": "NXrnXOq8OA43"
      }
    },
    {
      "cell_type": "code",
      "source": [
        "import pandas as pd\n",
        "import matplotlib.pyplot as plt\n",
        "from sklearn.model_selection import train_test_split\n",
        "from sklearn.linear_model import LinearRegression\n",
        "import numpy as np\n",
        "from sklearn.metrics import mean_absolute_error,mean_squared_error\n",
        "\n",
        "df2 = pd.DataFrame(pd.read_excel(\"Part2.csv.xlsx\"))"
      ],
      "metadata": {
        "id": "Hi6v_I4sBgC_"
      },
      "execution_count": 36,
      "outputs": []
    },
    {
      "cell_type": "code",
      "source": [
        "df2.head()"
      ],
      "metadata": {
        "colab": {
          "base_uri": "https://localhost:8080/",
          "height": 206
        },
        "id": "Q4vrxbRWB-9k",
        "outputId": "a500ec5c-b163-4bba-e11a-54edc27396cc"
      },
      "execution_count": 37,
      "outputs": [
        {
          "output_type": "execute_result",
          "data": {
            "text/plain": [
              "   Cycle_Index  Discharge_Capacity (Ah)\n",
              "0          3.0                    1.050\n",
              "1          4.0                    2.082\n",
              "2          5.0                    1.041\n",
              "3          6.0                    1.041\n",
              "4          7.0                    1.041"
            ],
            "text/html": [
              "\n",
              "  <div id=\"df-99575830-8a91-4fe2-b4e4-0253cb87c6e2\">\n",
              "    <div class=\"colab-df-container\">\n",
              "      <div>\n",
              "<style scoped>\n",
              "    .dataframe tbody tr th:only-of-type {\n",
              "        vertical-align: middle;\n",
              "    }\n",
              "\n",
              "    .dataframe tbody tr th {\n",
              "        vertical-align: top;\n",
              "    }\n",
              "\n",
              "    .dataframe thead th {\n",
              "        text-align: right;\n",
              "    }\n",
              "</style>\n",
              "<table border=\"1\" class=\"dataframe\">\n",
              "  <thead>\n",
              "    <tr style=\"text-align: right;\">\n",
              "      <th></th>\n",
              "      <th>Cycle_Index</th>\n",
              "      <th>Discharge_Capacity (Ah)</th>\n",
              "    </tr>\n",
              "  </thead>\n",
              "  <tbody>\n",
              "    <tr>\n",
              "      <th>0</th>\n",
              "      <td>3.0</td>\n",
              "      <td>1.050</td>\n",
              "    </tr>\n",
              "    <tr>\n",
              "      <th>1</th>\n",
              "      <td>4.0</td>\n",
              "      <td>2.082</td>\n",
              "    </tr>\n",
              "    <tr>\n",
              "      <th>2</th>\n",
              "      <td>5.0</td>\n",
              "      <td>1.041</td>\n",
              "    </tr>\n",
              "    <tr>\n",
              "      <th>3</th>\n",
              "      <td>6.0</td>\n",
              "      <td>1.041</td>\n",
              "    </tr>\n",
              "    <tr>\n",
              "      <th>4</th>\n",
              "      <td>7.0</td>\n",
              "      <td>1.041</td>\n",
              "    </tr>\n",
              "  </tbody>\n",
              "</table>\n",
              "</div>\n",
              "      <button class=\"colab-df-convert\" onclick=\"convertToInteractive('df-99575830-8a91-4fe2-b4e4-0253cb87c6e2')\"\n",
              "              title=\"Convert this dataframe to an interactive table.\"\n",
              "              style=\"display:none;\">\n",
              "        \n",
              "  <svg xmlns=\"http://www.w3.org/2000/svg\" height=\"24px\"viewBox=\"0 0 24 24\"\n",
              "       width=\"24px\">\n",
              "    <path d=\"M0 0h24v24H0V0z\" fill=\"none\"/>\n",
              "    <path d=\"M18.56 5.44l.94 2.06.94-2.06 2.06-.94-2.06-.94-.94-2.06-.94 2.06-2.06.94zm-11 1L8.5 8.5l.94-2.06 2.06-.94-2.06-.94L8.5 2.5l-.94 2.06-2.06.94zm10 10l.94 2.06.94-2.06 2.06-.94-2.06-.94-.94-2.06-.94 2.06-2.06.94z\"/><path d=\"M17.41 7.96l-1.37-1.37c-.4-.4-.92-.59-1.43-.59-.52 0-1.04.2-1.43.59L10.3 9.45l-7.72 7.72c-.78.78-.78 2.05 0 2.83L4 21.41c.39.39.9.59 1.41.59.51 0 1.02-.2 1.41-.59l7.78-7.78 2.81-2.81c.8-.78.8-2.07 0-2.86zM5.41 20L4 18.59l7.72-7.72 1.47 1.35L5.41 20z\"/>\n",
              "  </svg>\n",
              "      </button>\n",
              "      \n",
              "  <style>\n",
              "    .colab-df-container {\n",
              "      display:flex;\n",
              "      flex-wrap:wrap;\n",
              "      gap: 12px;\n",
              "    }\n",
              "\n",
              "    .colab-df-convert {\n",
              "      background-color: #E8F0FE;\n",
              "      border: none;\n",
              "      border-radius: 50%;\n",
              "      cursor: pointer;\n",
              "      display: none;\n",
              "      fill: #1967D2;\n",
              "      height: 32px;\n",
              "      padding: 0 0 0 0;\n",
              "      width: 32px;\n",
              "    }\n",
              "\n",
              "    .colab-df-convert:hover {\n",
              "      background-color: #E2EBFA;\n",
              "      box-shadow: 0px 1px 2px rgba(60, 64, 67, 0.3), 0px 1px 3px 1px rgba(60, 64, 67, 0.15);\n",
              "      fill: #174EA6;\n",
              "    }\n",
              "\n",
              "    [theme=dark] .colab-df-convert {\n",
              "      background-color: #3B4455;\n",
              "      fill: #D2E3FC;\n",
              "    }\n",
              "\n",
              "    [theme=dark] .colab-df-convert:hover {\n",
              "      background-color: #434B5C;\n",
              "      box-shadow: 0px 1px 3px 1px rgba(0, 0, 0, 0.15);\n",
              "      filter: drop-shadow(0px 1px 2px rgba(0, 0, 0, 0.3));\n",
              "      fill: #FFFFFF;\n",
              "    }\n",
              "  </style>\n",
              "\n",
              "      <script>\n",
              "        const buttonEl =\n",
              "          document.querySelector('#df-99575830-8a91-4fe2-b4e4-0253cb87c6e2 button.colab-df-convert');\n",
              "        buttonEl.style.display =\n",
              "          google.colab.kernel.accessAllowed ? 'block' : 'none';\n",
              "\n",
              "        async function convertToInteractive(key) {\n",
              "          const element = document.querySelector('#df-99575830-8a91-4fe2-b4e4-0253cb87c6e2');\n",
              "          const dataTable =\n",
              "            await google.colab.kernel.invokeFunction('convertToInteractive',\n",
              "                                                     [key], {});\n",
              "          if (!dataTable) return;\n",
              "\n",
              "          const docLinkHtml = 'Like what you see? Visit the ' +\n",
              "            '<a target=\"_blank\" href=https://colab.research.google.com/notebooks/data_table.ipynb>data table notebook</a>'\n",
              "            + ' to learn more about interactive tables.';\n",
              "          element.innerHTML = '';\n",
              "          dataTable['output_type'] = 'display_data';\n",
              "          await google.colab.output.renderOutput(dataTable, element);\n",
              "          const docLink = document.createElement('div');\n",
              "          docLink.innerHTML = docLinkHtml;\n",
              "          element.appendChild(docLink);\n",
              "        }\n",
              "      </script>\n",
              "    </div>\n",
              "  </div>\n",
              "  "
            ]
          },
          "metadata": {},
          "execution_count": 37
        }
      ]
    },
    {
      "cell_type": "markdown",
      "source": [
        "Creating SOH column as per the given definition"
      ],
      "metadata": {
        "id": "EWDEfZwiTIKL"
      }
    },
    {
      "cell_type": "code",
      "source": [
        "initial_capacity = df2['Discharge_Capacity (Ah)'].iloc[0]\n",
        "df2['SOH'] = df2['Discharge_Capacity (Ah)']/initial_capacity\n",
        "df2.head()"
      ],
      "metadata": {
        "colab": {
          "base_uri": "https://localhost:8080/",
          "height": 206
        },
        "id": "EcLXNN8dROiN",
        "outputId": "cee079a5-af5a-47eb-ba35-f2db16987e04"
      },
      "execution_count": 38,
      "outputs": [
        {
          "output_type": "execute_result",
          "data": {
            "text/plain": [
              "   Cycle_Index  Discharge_Capacity (Ah)       SOH\n",
              "0          3.0                    1.050  1.000000\n",
              "1          4.0                    2.082  1.982857\n",
              "2          5.0                    1.041  0.991429\n",
              "3          6.0                    1.041  0.991429\n",
              "4          7.0                    1.041  0.991429"
            ],
            "text/html": [
              "\n",
              "  <div id=\"df-89daa178-0615-434a-9909-02cfbdd5f56d\">\n",
              "    <div class=\"colab-df-container\">\n",
              "      <div>\n",
              "<style scoped>\n",
              "    .dataframe tbody tr th:only-of-type {\n",
              "        vertical-align: middle;\n",
              "    }\n",
              "\n",
              "    .dataframe tbody tr th {\n",
              "        vertical-align: top;\n",
              "    }\n",
              "\n",
              "    .dataframe thead th {\n",
              "        text-align: right;\n",
              "    }\n",
              "</style>\n",
              "<table border=\"1\" class=\"dataframe\">\n",
              "  <thead>\n",
              "    <tr style=\"text-align: right;\">\n",
              "      <th></th>\n",
              "      <th>Cycle_Index</th>\n",
              "      <th>Discharge_Capacity (Ah)</th>\n",
              "      <th>SOH</th>\n",
              "    </tr>\n",
              "  </thead>\n",
              "  <tbody>\n",
              "    <tr>\n",
              "      <th>0</th>\n",
              "      <td>3.0</td>\n",
              "      <td>1.050</td>\n",
              "      <td>1.000000</td>\n",
              "    </tr>\n",
              "    <tr>\n",
              "      <th>1</th>\n",
              "      <td>4.0</td>\n",
              "      <td>2.082</td>\n",
              "      <td>1.982857</td>\n",
              "    </tr>\n",
              "    <tr>\n",
              "      <th>2</th>\n",
              "      <td>5.0</td>\n",
              "      <td>1.041</td>\n",
              "      <td>0.991429</td>\n",
              "    </tr>\n",
              "    <tr>\n",
              "      <th>3</th>\n",
              "      <td>6.0</td>\n",
              "      <td>1.041</td>\n",
              "      <td>0.991429</td>\n",
              "    </tr>\n",
              "    <tr>\n",
              "      <th>4</th>\n",
              "      <td>7.0</td>\n",
              "      <td>1.041</td>\n",
              "      <td>0.991429</td>\n",
              "    </tr>\n",
              "  </tbody>\n",
              "</table>\n",
              "</div>\n",
              "      <button class=\"colab-df-convert\" onclick=\"convertToInteractive('df-89daa178-0615-434a-9909-02cfbdd5f56d')\"\n",
              "              title=\"Convert this dataframe to an interactive table.\"\n",
              "              style=\"display:none;\">\n",
              "        \n",
              "  <svg xmlns=\"http://www.w3.org/2000/svg\" height=\"24px\"viewBox=\"0 0 24 24\"\n",
              "       width=\"24px\">\n",
              "    <path d=\"M0 0h24v24H0V0z\" fill=\"none\"/>\n",
              "    <path d=\"M18.56 5.44l.94 2.06.94-2.06 2.06-.94-2.06-.94-.94-2.06-.94 2.06-2.06.94zm-11 1L8.5 8.5l.94-2.06 2.06-.94-2.06-.94L8.5 2.5l-.94 2.06-2.06.94zm10 10l.94 2.06.94-2.06 2.06-.94-2.06-.94-.94-2.06-.94 2.06-2.06.94z\"/><path d=\"M17.41 7.96l-1.37-1.37c-.4-.4-.92-.59-1.43-.59-.52 0-1.04.2-1.43.59L10.3 9.45l-7.72 7.72c-.78.78-.78 2.05 0 2.83L4 21.41c.39.39.9.59 1.41.59.51 0 1.02-.2 1.41-.59l7.78-7.78 2.81-2.81c.8-.78.8-2.07 0-2.86zM5.41 20L4 18.59l7.72-7.72 1.47 1.35L5.41 20z\"/>\n",
              "  </svg>\n",
              "      </button>\n",
              "      \n",
              "  <style>\n",
              "    .colab-df-container {\n",
              "      display:flex;\n",
              "      flex-wrap:wrap;\n",
              "      gap: 12px;\n",
              "    }\n",
              "\n",
              "    .colab-df-convert {\n",
              "      background-color: #E8F0FE;\n",
              "      border: none;\n",
              "      border-radius: 50%;\n",
              "      cursor: pointer;\n",
              "      display: none;\n",
              "      fill: #1967D2;\n",
              "      height: 32px;\n",
              "      padding: 0 0 0 0;\n",
              "      width: 32px;\n",
              "    }\n",
              "\n",
              "    .colab-df-convert:hover {\n",
              "      background-color: #E2EBFA;\n",
              "      box-shadow: 0px 1px 2px rgba(60, 64, 67, 0.3), 0px 1px 3px 1px rgba(60, 64, 67, 0.15);\n",
              "      fill: #174EA6;\n",
              "    }\n",
              "\n",
              "    [theme=dark] .colab-df-convert {\n",
              "      background-color: #3B4455;\n",
              "      fill: #D2E3FC;\n",
              "    }\n",
              "\n",
              "    [theme=dark] .colab-df-convert:hover {\n",
              "      background-color: #434B5C;\n",
              "      box-shadow: 0px 1px 3px 1px rgba(0, 0, 0, 0.15);\n",
              "      filter: drop-shadow(0px 1px 2px rgba(0, 0, 0, 0.3));\n",
              "      fill: #FFFFFF;\n",
              "    }\n",
              "  </style>\n",
              "\n",
              "      <script>\n",
              "        const buttonEl =\n",
              "          document.querySelector('#df-89daa178-0615-434a-9909-02cfbdd5f56d button.colab-df-convert');\n",
              "        buttonEl.style.display =\n",
              "          google.colab.kernel.accessAllowed ? 'block' : 'none';\n",
              "\n",
              "        async function convertToInteractive(key) {\n",
              "          const element = document.querySelector('#df-89daa178-0615-434a-9909-02cfbdd5f56d');\n",
              "          const dataTable =\n",
              "            await google.colab.kernel.invokeFunction('convertToInteractive',\n",
              "                                                     [key], {});\n",
              "          if (!dataTable) return;\n",
              "\n",
              "          const docLinkHtml = 'Like what you see? Visit the ' +\n",
              "            '<a target=\"_blank\" href=https://colab.research.google.com/notebooks/data_table.ipynb>data table notebook</a>'\n",
              "            + ' to learn more about interactive tables.';\n",
              "          element.innerHTML = '';\n",
              "          dataTable['output_type'] = 'display_data';\n",
              "          await google.colab.output.renderOutput(dataTable, element);\n",
              "          const docLink = document.createElement('div');\n",
              "          docLink.innerHTML = docLinkHtml;\n",
              "          element.appendChild(docLink);\n",
              "        }\n",
              "      </script>\n",
              "    </div>\n",
              "  </div>\n",
              "  "
            ]
          },
          "metadata": {},
          "execution_count": 38
        }
      ]
    },
    {
      "cell_type": "markdown",
      "source": [
        "###Cleaning the data"
      ],
      "metadata": {
        "id": "KVmuoJYATXxn"
      }
    },
    {
      "cell_type": "markdown",
      "source": [
        "Sorting the DataFrame according to the Cycle Index"
      ],
      "metadata": {
        "id": "Wi9uS4qeOIW7"
      }
    },
    {
      "cell_type": "code",
      "source": [
        "df2 = df2.sort_values(by=['Cycle_Index'])"
      ],
      "metadata": {
        "id": "k4TMDW8HC8pK"
      },
      "execution_count": 39,
      "outputs": []
    },
    {
      "cell_type": "markdown",
      "source": [
        "Plotting our dataset"
      ],
      "metadata": {
        "id": "_TmgU_HlNyEr"
      }
    },
    {
      "cell_type": "code",
      "source": [
        "plt.scatter(df2['Cycle_Index'], df2['SOH'])\n",
        "plt.show()"
      ],
      "metadata": {
        "colab": {
          "base_uri": "https://localhost:8080/",
          "height": 265
        },
        "id": "MOFVQFmoJ1U4",
        "outputId": "5c2744fb-9fa4-4c73-8cae-fe45fa59c307"
      },
      "execution_count": 40,
      "outputs": [
        {
          "output_type": "display_data",
          "data": {
            "text/plain": [
              "<Figure size 432x288 with 1 Axes>"
            ],
            "image/png": "[encoded data removed]"
          },
          "metadata": {
            "needs_background": "light"
          }
        }
      ]
    },
    {
      "cell_type": "markdown",
      "source": [
        "We can see from the above plot that there are some outliers in the data, \n",
        "So we'll proceed to remove these outliers"
      ],
      "metadata": {
        "id": "bdZI_a1xOOK_"
      }
    },
    {
      "cell_type": "code",
      "source": [
        "def remove_outlier(df_in, col_name):\n",
        "    q1 = df_in[col_name].quantile(0.25)\n",
        "    q3 = df_in[col_name].quantile(0.75)\n",
        "    iqr = q3-q1 #Interquartile range\n",
        "    fence_low  = q1-1.5*iqr\n",
        "    fence_high = q3+1.5*iqr\n",
        "    df_out = df_in.loc[(df_in[col_name] > fence_low) & (df_in[col_name] < fence_high)]\n",
        "    return df_out\n",
        "\n",
        "df2 = remove_outlier(df2, 'SOH')"
      ],
      "metadata": {
        "id": "5LgeFTIIKrGi"
      },
      "execution_count": 41,
      "outputs": []
    },
    {
      "cell_type": "markdown",
      "source": [
        "Visualizing the data again"
      ],
      "metadata": {
        "id": "VrIVh64aObYa"
      }
    },
    {
      "cell_type": "code",
      "source": [
        "plt.scatter(df2['Cycle_Index'], df2['SOH'])\n",
        "plt.show()"
      ],
      "metadata": {
        "colab": {
          "base_uri": "https://localhost:8080/",
          "height": 265
        },
        "id": "xPGRg47AK0gJ",
        "outputId": "44d06302-6efc-4241-e3a4-bcc2a7af8844"
      },
      "execution_count": 42,
      "outputs": [
        {
          "output_type": "display_data",
          "data": {
            "text/plain": [
              "<Figure size 432x288 with 1 Axes>"
            ],
            "image/png": "[encoded data removed]"
          },
          "metadata": {
            "needs_background": "light"
          }
        }
      ]
    },
    {
      "cell_type": "markdown",
      "source": [
        "###1) Modelling the SOH of the cell as a function of cycle number"
      ],
      "metadata": {
        "id": "2KdUeXzLTCTx"
      }
    },
    {
      "cell_type": "markdown",
      "source": [
        "Preprocessing the data and splitting them into training and test datasets"
      ],
      "metadata": {
        "id": "GJehhHTAO7TU"
      }
    },
    {
      "cell_type": "code",
      "source": [
        "\n",
        "X = np.array(df2['Cycle_Index']).reshape(-1, 1)\n",
        "y = np.array(df2['SOH']).reshape(-1, 1)\n",
        "\n",
        "X_train, X_test, y_train, y_test = train_test_split(X, y, test_size = 0.25)"
      ],
      "metadata": {
        "id": "OjXtl98AMBtw"
      },
      "execution_count": 43,
      "outputs": []
    },
    {
      "cell_type": "markdown",
      "source": [
        "Creating a learning regression model using Scikit-learn library and training it on the train dataset"
      ],
      "metadata": {
        "id": "Agk4qRcrPIyH"
      }
    },
    {
      "cell_type": "code",
      "source": [
        "regr = LinearRegression()\n",
        "  \n",
        "regr.fit(X_train, y_train)"
      ],
      "metadata": {
        "colab": {
          "base_uri": "https://localhost:8080/"
        },
        "id": "0aIeqRQEMHj6",
        "outputId": "b66915cc-8979-4f6f-ff0b-ca3b84e8f750"
      },
      "execution_count": 44,
      "outputs": [
        {
          "output_type": "execute_result",
          "data": {
            "text/plain": [
              "LinearRegression()"
            ]
          },
          "metadata": {},
          "execution_count": 44
        }
      ]
    },
    {
      "cell_type": "markdown",
      "source": [
        "Testing the model on test dataset"
      ],
      "metadata": {
        "id": "catEdJN-P2Gy"
      }
    },
    {
      "cell_type": "code",
      "source": [
        "print(regr.score(X_test, y_test))"
      ],
      "metadata": {
        "colab": {
          "base_uri": "https://localhost:8080/"
        },
        "id": "7qkRZ9sHP0hb",
        "outputId": "66c03754-7fe3-40e7-d917-564b38e4adf5"
      },
      "execution_count": 45,
      "outputs": [
        {
          "output_type": "stream",
          "name": "stdout",
          "text": [
            "0.9863670204912773\n"
          ]
        }
      ]
    },
    {
      "cell_type": "markdown",
      "source": [
        "Plotting the results predicted by the model (red line)"
      ],
      "metadata": {
        "id": "ESknpz4eO1Ys"
      }
    },
    {
      "cell_type": "code",
      "source": [
        "y_pred = regr.predict(X_test)\n",
        "plt.scatter(X_test, y_test, color ='b')\n",
        "plt.plot(X_test, y_pred, color ='r')\n",
        "plt.xlabel('Cycle_Index')\n",
        "plt.ylabel('SOH')\n",
        "plt.show()"
      ],
      "metadata": {
        "colab": {
          "base_uri": "https://localhost:8080/",
          "height": 280
        },
        "id": "edVyi9HNMqYy",
        "outputId": "3e9c548f-c0b8-436b-a0d1-fb2e7b6cd024"
      },
      "execution_count": 46,
      "outputs": [
        {
          "output_type": "display_data",
          "data": {
            "text/plain": [
              "<Figure size 432x288 with 1 Axes>"
            ],
            "image/png": "[encoded data removed]"
          },
          "metadata": {
            "needs_background": "light"
          }
        }
      ]
    },
    {
      "cell_type": "markdown",
      "source": [
        "Creating the predict_SOH function as per the question"
      ],
      "metadata": {
        "id": "hzgM3G3_QAfD"
      }
    },
    {
      "cell_type": "code",
      "source": [
        "def predict_SOH(df_in):\n",
        "  X_in = np.array(df_in['Cycle_Index']).reshape(-1, 1)\n",
        "  pred_SOH = regr.predict(X_in)\n",
        "  return pred_SOH\n",
        "\n",
        "print(predict_SOH(df2))"
      ],
      "metadata": {
        "id": "dt8r9E_aFMcJ",
        "colab": {
          "base_uri": "https://localhost:8080/"
        },
        "outputId": "26c1cad9-25c7-402c-a1cf-2f5510b80139"
      },
      "execution_count": 47,
      "outputs": [
        {
          "output_type": "stream",
          "name": "stdout",
          "text": [
            "[[0.99661781]\n",
            " [0.99650864]\n",
            " [0.99645406]\n",
            " ...\n",
            " [0.77539923]\n",
            " [0.77534465]\n",
            " [0.77529007]]\n"
          ]
        }
      ]
    },
    {
      "cell_type": "markdown",
      "source": [
        "###2) Obtain RUL"
      ],
      "metadata": {
        "id": "fRf6XXTCYOR1"
      }
    },
    {
      "cell_type": "markdown",
      "source": [
        "Predict after how many cycles model reaches 80% SOH"
      ],
      "metadata": {
        "id": "qKErrbPEYUP_"
      }
    },
    {
      "cell_type": "code",
      "source": [
        "life_cycle = np.array(0).reshape(1,-1)\n",
        "y=0\n",
        "while(True):\n",
        "  y = regr.predict(life_cycle)\n",
        "  if(y<=0.8):     #Count cycles until SOH decreases to 80%\n",
        "    break\n",
        "  life_cycle+=1\n",
        "print(life_cycle[0][0])"
      ],
      "metadata": {
        "colab": {
          "base_uri": "https://localhost:8080/"
        },
        "outputId": "041d321c-db46-47f5-bdf4-0026ac413ff3",
        "id": "NuIbxy80etwz"
      },
      "execution_count": 48,
      "outputs": [
        {
          "output_type": "stream",
          "name": "stdout",
          "text": [
            "3606\n"
          ]
        }
      ]
    },
    {
      "cell_type": "markdown",
      "source": [
        "RUL after the following Cycles: 500, 1000, 2000, 3000 and 3500"
      ],
      "metadata": {
        "id": "a56FIeXKdn-Q"
      }
    },
    {
      "cell_type": "code",
      "source": [
        "rul_500 = life_cycle[0][0] - 500\n",
        "rul_1000 = life_cycle[0][0] - 1000\n",
        "rul_2000 = life_cycle[0][0] - 2000\n",
        "rul_3000 = life_cycle[0][0] - 3000\n",
        "rul_3500 = life_cycle[0][0] - 3500\n",
        "\n",
        "print(\"RUL at 500th Cycle : \",rul_500)\n",
        "print(\"RUL at 1000th Cycle : \",rul_1000)\n",
        "print(\"RUL at 2000th Cycle : \",rul_2000)\n",
        "print(\"RUL at 3000th Cycle : \",rul_3000)\n",
        "print(\"RUL at 3500th Cycle : \",rul_3500)"
      ],
      "metadata": {
        "colab": {
          "base_uri": "https://localhost:8080/"
        },
        "id": "oAyhAX04dnXS",
        "outputId": "860dca1b-d421-48ee-9594-90c53d51895f"
      },
      "execution_count": 49,
      "outputs": [
        {
          "output_type": "stream",
          "name": "stdout",
          "text": [
            "RUL at 500th Cycle :  3106\n",
            "RUL at 1000th Cycle :  2606\n",
            "RUL at 2000th Cycle :  1606\n",
            "RUL at 3000th Cycle :  606\n",
            "RUL at 3500th Cycle :  106\n"
          ]
        }
      ]
    },
    {
      "cell_type": "markdown",
      "source": [
        "### 3) Evaluate the performance of the model"
      ],
      "metadata": {
        "id": "U_Sk8SGMXFGG"
      }
    },
    {
      "cell_type": "markdown",
      "source": [
        "Calculating the error estimates using Scikit-learn module"
      ],
      "metadata": {
        "id": "ykbkErpMWuOX"
      }
    },
    {
      "cell_type": "code",
      "source": [
        "#This function estimates the MAE and RMSE errors between the Actual and predicted SOH values using the Scikit-learn libraries\n",
        "def Estimate_error(df_in):\n",
        "  y_test = df_in['SOH']\n",
        "  y_pred = predict_SOH(df_in)\n",
        "  mae = mean_absolute_error(y_true=y_test,y_pred=y_pred)\n",
        "  rmse = mean_squared_error(y_true=y_test,y_pred=y_pred,squared=False)\n",
        "  return (rmse, mae)"
      ],
      "metadata": {
        "id": "OYu_sA0iVWMF"
      },
      "execution_count": 50,
      "outputs": []
    },
    {
      "cell_type": "code",
      "source": [
        "rmse,mae = Estimate_error(df2)"
      ],
      "metadata": {
        "id": "mdtXvP7zV_ZX"
      },
      "execution_count": 51,
      "outputs": []
    },
    {
      "cell_type": "markdown",
      "source": [
        "Print the performance metrics"
      ],
      "metadata": {
        "id": "cd-DonkYW4xN"
      }
    },
    {
      "cell_type": "code",
      "source": [
        "print(\"MAE:\",mae)\n",
        "print(\"RMSE:\",rmse)"
      ],
      "metadata": {
        "id": "LU0sAyPKWTGe",
        "colab": {
          "base_uri": "https://localhost:8080/"
        },
        "outputId": "78306f46-e144-4b61-dc12-82d78b35bf33"
      },
      "execution_count": 52,
      "outputs": [
        {
          "output_type": "stream",
          "name": "stdout",
          "text": [
            "MAE: 0.006121685031396317\n",
            "RMSE: 0.007835309544047106\n"
          ]
        }
      ]
    },
    {
      "cell_type": "code",
      "source": [
        "initial_capacity = df2['Discharge_Capacity (Ah)'].iloc[0]\n",
        "df2['SOH'] = df2['Discharge_Capacity (Ah)']/initial_capacity\n",
        "\n",
        "print(Estimate_error(df2))"
      ],
      "metadata": {
        "colab": {
          "base_uri": "https://localhost:8080/"
        },
        "id": "L9hYwDcb4Ii7",
        "outputId": "d66369f8-bae6-43a0-a668-318ab79e8c52"
      },
      "execution_count": 56,
      "outputs": [
        {
          "output_type": "stream",
          "name": "stdout",
          "text": [
            "(0.007835309544047106, 0.006121685031396317)\n"
          ]
        }
      ]
    },
    {
      "cell_type": "markdown",
      "source": [
        "#Summary"
      ],
      "metadata": {
        "id": "OmMWTq1vfVc7"
      }
    },
    {
      "cell_type": "markdown",
      "source": [
        "###Part 1 - Feature Extraction"
      ],
      "metadata": {
        "id": "PqyY4dEkfYwe"
      }
    },
    {
      "cell_type": "markdown",
      "source": [
        "Task 1\n",
        "\n",
        "\n",
        "---\n",
        "\n",
        "In this initial section, I have performed preprocessing of data. <br>\n",
        "I used the dropna function available in pandas library to drop the null values.<br>\n",
        "I have used a custom function to remove the outliers present in the data by excluding those values which lie outside the inter-quartile range.\n",
        "<br>\n",
        "I have also parsed the timestamps so that I can sort the table according to the time and it remains consistent with chronology of the battery charging and discharging.\n"
      ],
      "metadata": {
        "id": "QCtLb_nufzRc"
      }
    },
    {
      "cell_type": "markdown",
      "source": [
        "Task 2 \n",
        "\n",
        "---\n",
        "\n",
        "In this section I have written an algorithm to find the full equivalent cycles of the battery. I created a charge status column which monitors the change in the SOC. Then I have created a charge_current column which monitors the change in charging current of the battery.\n",
        "<br>\n",
        "After that I create a cycles column which captures the cycles completed at a particular timestamp. This is calculated by adding all the charge_status cummulatively and then dividing them by 100. In this way, the last value gives the total FEC completed by the battery."
      ],
      "metadata": {
        "id": "jMi5OpYrg5-J"
      }
    },
    {
      "cell_type": "markdown",
      "source": [
        "Task 3\n",
        "\n",
        "---\n",
        "\n",
        "Initially, I have calculated the change in time at each step. Now, I multiplt each of the time change with the current change to obtain the change in charge. Then, I have found the index where 10th cycle ends iteratively. Finally, I summed the change in charges over 10 cycles and divided them by 10 to get the average Capacity of the battery.\n"
      ],
      "metadata": {
        "id": "QeXzHoB8ibyd"
      }
    },
    {
      "cell_type": "markdown",
      "source": [
        "###Part 2 - Regression"
      ],
      "metadata": {
        "id": "qkh8f8RejkqS"
      }
    },
    {
      "cell_type": "markdown",
      "source": [
        "Task 1 \n",
        "\n",
        "---\n",
        "\n",
        "Before starting I have cleaned the dataset provided and removed the outliers by the same method used in previous task. I have started by preprocessing the data and then split the whole dataset into training and testing data. In this process I have used the Scikit-learn library and the numpy library. After that I have used the Scikit-learn's LinearRegression funtion to create and train a linear regression model. I have chosen a linear regression model because in while visualing the data, it seemed to resemble a straight line and hence, intuitively should give better results. \n",
        "Training the model on 75% of the dataset took a time of around 1 second. The inputs and targets fed are Cycle_index and SOH columns of the DataFrame.\n",
        "<br>\n",
        "After that I have tested the model on the test dataset and plotted  the comparison between the actual and predicted results. Finally, I have created the predict_SOH function as asked in the question.\n"
      ],
      "metadata": {
        "id": "0YLlWfxdjqj2"
      }
    },
    {
      "cell_type": "markdown",
      "source": [
        "Task 2 \n",
        "\n",
        "---\n",
        "\n",
        "In this section I have calculated the remaining useful life (RUL) of the battery. First, I have tried to find the total number of cycles which is useful in its lifetime. So I thought of an algorithm where we count the cycles until SOH decreases to 80%.\n",
        "So, in this way the RUL comes out to be :\n",
        "<br>RUL at 500th Cycle :  3108\n",
        "<br>RUL at 1000th Cycle :  2608\n",
        "<br>RUL at 2000th Cycle :  1608\n",
        "<br>RUL at 3000th Cycle :  608\n",
        "<br>RUL at 3500th Cycle :  108"
      ],
      "metadata": {
        "id": "T3yNQbIbmuRR"
      }
    },
    {
      "cell_type": "markdown",
      "source": [
        "Task 3 \n",
        "\n",
        "---\n",
        "\n",
        "In this section, I have calculated the performance metrics of my model. The metrics used are MAE and RMSE. These are estimated errors calculated using Scikit's functions.<br>\n",
        "The values come out to be :<br>\n",
        "MAE: 0.0061345402596345265<br>\n",
        "RMSE: 0.007837251920956927"
      ],
      "metadata": {
        "id": "VjPRVC_SnsIV"
      }
    }
  ],
  "metadata": {
    "colab": {
      "provenance": [],
      "collapsed_sections": [
        "EtNyAmI_ummC",
        "3GftOfcPvIix",
        "Xaoc4pRmvwyA",
        "raLG6HTh4I2G",
        "ub3q2JMcN2K6",
        "KVmuoJYATXxn",
        "2KdUeXzLTCTx",
        "fRf6XXTCYOR1",
        "U_Sk8SGMXFGG"
      ],
      "include_colab_link": true
    },
    "kernelspec": {
      "display_name": "Python 3",
      "name": "python3"
    },
    "language_info": {
      "name": "python"
    }
  },
  "nbformat": 4,
  "nbformat_minor": 0
}